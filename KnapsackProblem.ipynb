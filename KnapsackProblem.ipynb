{
 "cells": [
  {
   "cell_type": "markdown",
   "id": "984838bd-2d43-49ce-9c02-e4b0f6aa1d32",
   "metadata": {},
   "source": [
    "# **Projeto de Computação Quântica**\n",
    "\n",
    "## **Problema da Mochila (*The Knapsack Problem*)**\n",
    "\n",
    "\n",
    "Alunos: Bernardo Cunha Capoferri; Lívia Sayuri Makuta.\n",
    "\n",
    "Nesse projeto, será proposto um algoritmo quântico capaz de resolver o Problema da Mochila, que é um problema difícil de ser resolvido através da computação clássica. Mas antes de tratar da implementação dessa solução, primeiro será explicado o que é esse problema, o porquê ele é considerado um problema NP-Completo (problemas cujas soluções podem ser verificadas em tempo polinomial por uma Máquina de Turing não determinística), e a importância desse campo quântico na computação para resolver esse tipo de problemas.\n",
    "\n",
    "## **Índice**:\n",
    "* [1. Descrição do Problema da Mochila](#first-bullet)\n",
    "* [2. Análise da Complexidade do Problema da Mochila](#second-bullet)\n",
    "* [3. O Papel da Computação Quântica na Resolução do Problema da Mochila](#third-bullet)\n",
    "* [4. Oráculo Proposto Inicialmente para o Problema da Mochila](#fourth-bullet)\n",
    "* [5. Referências](#fifth-bullet)\n",
    "---------\n",
    "\n",
    "\n",
    "(PART I) describe a boolean or phase oracle to map the problem to the quantum domain and identify which of its points can be optimized by quantum parallelism mechanisms\n",
    "\n",
    "What should be done in the first part of the project?\n",
    "\n",
    "you must describe a boolean or phase oracle (not yet optimized) to generate solutions to the problem\n",
    "\n",
    "you should implement this oracle in Qiskit and carry out tests using simulators\n",
    "\n",
    "The above steps must be submitted in the form of a Python notebook by the established date."
   ]
  },
  {
   "cell_type": "markdown",
   "id": "c6275c8d-6b7d-4dce-8aff-9f4bc472e7ae",
   "metadata": {},
   "source": [
    "### **1. Descrição do Problema da Mochila** <a class=\"anchor\" id=\"first-bullet\"></a>\n",
    "\n",
    "O problema da mochila envolve uma mochila com um limite de peso ($W$) e uma coleção de ($n$) itens, representados como $(x_1, x_2, x_3, \\ldots, x_n)$, cada um com um valor $(v_1, v_2, v_3, \\ldots, v_n)$ e um peso $(w_1, w_2, w_3, \\ldots, w_n)$. O objetivo do problema da mochila é encontrar a solução de otimização que maximize o valor total dos itens adicionados à mochila, sujeito à restrição de que a soma dos pesos dos itens não pode exceder o limite de peso ($W$).\n",
    "\n",
    "A pergunta fundamental é: Qual é o valor máximo dos itens que podem ser adicionados à mochila sem ultrapassar o limite de peso ($W$)?\n",
    "\n",
    "A imagem a seguir representa como este problema pode ser visualizado:\n",
    "\n",
    "<div>\n",
    "<img src=\"knapsack.png\" width=\"350\" />\n",
    "</div>\n",
    "\n",
    "Imagem retirada de: https://pt.wikipedia.org/wiki/Ficheiro:Knapsack.svg\n",
    "\n",
    "\n",
    "E existem duas abordagens diferentes em relação a este problema, as quais serão descritas nos tópicos a seguir.\n",
    "\n",
    "#### **1.1 Problema da Mochila com Limitação (Bounded Knapsack Problem)**\n",
    "\n",
    "No caso do Problema da Mochila com Limitação, os itens estão sujeitos à condição:\n",
    "\n",
    "$[ 0 \\leq x_i \\leq c, \\ \\forall\\ i=1,2,..,n ]$\n",
    "\n",
    "Nesse contexto, o valor ($c$) denota o número de cópias disponíveis de cada item. Isso significa que existe um limite específico para a quantidade de cada item que pode ser adicionado à mochila, de tal forma que não podem ser incluídos mais itens do que a quantidade máxima definida ($(c$)).\n",
    "\n",
    "#### **1.2 Problema da Mochila Ilimitada (Unbounded Knapsack Problem)**\n",
    "\n",
    "Por outro lado, no Problema da Mochila Ilimitada, os itens têm a seguinte forma:\n",
    "\n",
    "$[ x_i \\geq 0, \\forall\\ i=1,2,...,n $]\n",
    "\n",
    "No caso da mochila ilimitada, não há limite na quantidade de itens disponíveis. Isso significa que é possível incluir uma quantidade ilimitada de qualquer item na mochila, desde que o peso total não exceda a capacidade máxima da mochila ($(W$)).\n"
   ]
  },
  {
   "cell_type": "markdown",
   "id": "56134334-4303-4d7d-bf97-3e1234903bff",
   "metadata": {},
   "source": [
    "### **2. Análise da Complexidade do Problema da Mochila** <a class=\"anchor\" id=\"second-bullet\"></a>\n",
    "\n",
    "O Problema da Mochila é um dos problemas mais estudados na teoria da complexidade computacional. Sua complexidade intrínseca se deve a vários fatores que o tornam um exemplo clássico de um problema NP-Completo. Neste tópico, será analisada a complexidade do Problema da Mochila e os motivos pelos quais ele é considerado NP-Completo.\n",
    "\n",
    "#### **2.1 Natureza Exponencial das Possibilidades**\n",
    "\n",
    "O cerne da complexidade do Problema da Mochila reside na natureza exponencial das possibilidades. Suponha-se que existe um conjunto de \\(n\\) itens, cada um com um valor e um peso. Para encontrar a combinação ótima de itens que maximize o valor total, é preciso considerar todas as \\(2^n\\) combinações possíveis. Isso ocorre porque, para cada item, temos duas opções: incluí-lo ou excluí-lo da mochila. Portanto, o número de combinações cresce exponencialmente com o número de itens, o que torna a busca por uma solução ótima uma tarefa exponencialmente complexa.\n",
    "\n",
    "#### **2.2 Verificação de Solução**\n",
    "\n",
    "Além da busca exponencial, verificar se uma solução proposta é realmente ótima também é uma tarefa desafiadora. Para verificar se uma determinada combinação de itens atende aos requisitos do Problema da Mochila (ou seja, não excede o limite de peso e maximiza o valor), é necessário calcular o peso total e o valor total. Essa verificação requer tempo linear em relação ao número de itens. Como existem \\(2^n\\) combinações possíveis, verificar todas essas combinações levaria tempo exponencial. Portanto, a verificação de soluções é uma parte essencialmente exponencial do problema.\n",
    "\n",
    "#### **2.3 Reduções a Outros Problemas NP-Completos**\n",
    "\n",
    "Por fim, o Problema da Mochila também pode ser reduzido a outros problemas conhecidos como NP-Completos, como o Problema do Conjunto de Cobertura e o Problema da Soma de Subconjunto. Isso significa que se encontrássemos uma maneira eficiente de resolver o Problema da Mochila, poderíamos aplicar essa solução a esses outros problemas com eficiência. No entanto, como esses problemas também são NP-Completos, a redução implica que o Problema da Mochila é igualmente difícil de resolver. \n",
    "\n",
    "\n"
   ]
  },
  {
   "cell_type": "markdown",
   "id": "273eb366-229e-43cb-a761-857ca150800e",
   "metadata": {},
   "source": [
    "### **3. O Papel da Computação Quântica na Resolução do Problema da Mochila**  <a class=\"anchor\" id=\"third-bullet\"></a>\n",
    "\n",
    "Assim, a computação quântica surge como uma área promissora na busca por soluções eficientes para problemas complexos, como o Problema da Mochila, podendo desempenhar um papel crucial na resolução deste problema intrinsecamente difícil.\n",
    "\n",
    "Isso porque, uma das características fundamentais da computação quântica é a capacidade de trabalhar com superposições quânticas. Enquanto na computação clássica estamos limitados a considerar uma única combinação de itens de cada vez, a computação quântica nos permite explorar várias combinações simultaneamente. Isso significa que podemos avaliar múltiplas soluções potenciais de uma só vez, o que pode levar a uma busca mais eficiente por uma solução ótima.\n",
    "\n",
    "Além disso, a computação quântica também oferece a possibilidade de criar oráculos quânticos eficientes para verificar se uma solução proposta atende aos requisitos de um problema de alta complexidade. Enquanto na computação clássica a verificação de soluções pode ser uma tarefa demorada, os algoritmos quânticos podem realizar essa verificação de forma mais rápida e eficiente, tornando todo o processo de resolução mais ágil.\n",
    "\n",
    "É por isso que já existem vários algoritmos quânticos que foram desenvolvidos especificamente para abordar problemas de otimização. Um exemplo notável é o algoritmo de Grover, que pode ser aplicado para realizar buscas eficientes no espaço de solução. Ao amplificar a amplitude das soluções desejadas, o algoritmo de Grover pode ajudar a encontrar a combinação ótima de itens de maneira mais rápida do que os métodos clássicos.\n",
    "\n",
    "No entanto, é importante notar que a computação quântica ainda está em estágios iniciais de desenvolvimento. Os computadores quânticos atuais têm limitações em termos de número de qubits, temperatura para manter o computador, erros quânticos, entre outras, que afetam a escalabilidade.\n"
   ]
  },
  {
   "cell_type": "markdown",
   "id": "bae6ab02-f011-4c31-9bb3-5cad46fbcd71",
   "metadata": {
    "tags": []
   },
   "source": [
    "### **4. Oráculo Proposto Inicialmente para o Problema da Mochila** <a class=\"anchor\" id=\"fourth-bullet\"></a>\n",
    "\n",
    "\n",
    "#### **4.1 Descrição da Solução Proposta**\n",
    "\n",
    "Como mencionado anteriormente, o problema da mochila é um desafio de otimização combinatória no qual, de um conjunto de itens disponíveis, é necessário selecionar um subconjunto desses itens para ser colocado em uma mochila com capacidade limitada. O objetivo é maximizar o valor total dos itens dentro da mochila, respeitando a restrição de peso.\n",
    "\n",
    "Para ilustrar esse problema, consideremos os seguintes valores de exemplo:\n",
    "\n",
    "- Valores dos itens: [10, 13, 18, 31, 7]\n",
    "- Pesos dos itens: [2, 4, 6, 7, 3]\n",
    "- Capacidade máxima da mochila: 10\n",
    "\n",
    "A solução ótima neste cenário seria adicionar o primeiro e o quarto itens à mochila, o que resultaria em um valor total de 41 e um peso total de 9.\n",
    "\n",
    "Antes de construir o oráculo, é essencial compreender o conceito de oráculo na computação quântica e como ele se aplica a esse problema em particular. Na computação quântica, um \"oráculo\" é uma abstração que se refere a uma caixa preta capaz de resolver um subproblema específico que faz parte de um problema maior.\n",
    "\n",
    "Nesse contexto, a transformação do problema da mochila em um problema de otimização quadrática é um passo fundamental. Essa transformação envolve representar o problema da mochila em termos de funções quadráticas, que são mais facilmente manipuladas por algoritmos quânticos.\n",
    "\n",
    "A escolha de transformar o problema em uma forma quadrática é estratégica, uma vez que o objetivo final é encontrar a combinação ideal de itens que maximize o valor total. Essa otimização pode ser expressa como uma função quadrática, na qual se busca maximizar ou minimizar uma função objetiva, sujeita a restrições quadráticas. Nesse caso, a função objetivo seria uma soma ponderada dos valores dos itens (o que se deseja maximizar), enquanto as restrições asseguram que o peso total não exceda o limite estabelecido.\n",
    "\n",
    "Feito isso, o próximo passo para resolver um problema de otimização quadrática em um computador quântico, é utilizar algoritmos quânticos, como o QAOA (Quantum Approximate Optimization Algorithm), que são projetados especificamente para otimizar funções quadráticas. Nesse contexto, o oráculo representa a formulação do problema da mochila na forma de uma função quadrática e o algoritmo quântico opera com essa função quadrática como uma ferramenta para encontrar a solução que otimiza a função objetivo.\n",
    "\n",
    "Assim, esse algoritmo quântico consulta essa função quadrática para determinar como ajustar as variáveis de decisão (por exemplo, quais itens incluir na mochila) de modo a maximizar o valor total.\n",
    "\n",
    "\n",
    "#### **4.2 Implementação do Oráculo: Transformar em um Problema de Otimização Quadrático**\n"
   ]
  },
  {
   "cell_type": "code",
   "execution_count": 2,
   "id": "504b91c1-1092-4f26-939f-8238b1a94470",
   "metadata": {
    "tags": []
   },
   "outputs": [],
   "source": [
    "# Importing standard Qiskit libraries\n",
    "from qiskit import QuantumCircuit, transpile, Aer\n",
    "from qiskit.tools.jupyter import *\n",
    "from qiskit.visualization import *\n",
    "from ibm_quantum_widgets import *\n",
    "from qiskit_optimization.applications import Knapsack\n",
    "from qiskit_optimization import QuadraticProgram\n",
    "from qiskit_optimization.algorithms import MinimumEigenOptimizer\n",
    "from qiskit.utils import algorithm_globals, QuantumInstance\n",
    "from qiskit.algorithms.minimum_eigensolvers import NumPyMinimumEigensolver, QAOA\n",
    "from docplex.mp.model import Model\n",
    "from qiskit_optimization.translators import from_docplex_mp\n",
    "import numpy as np\n",
    "\n",
    "# qiskit-ibmq-provider has been deprecated.\n",
    "# Please see the Migration Guides in https://ibm.biz/provider_migration_guide for more detail.\n",
    "from qiskit_ibm_runtime import QiskitRuntimeService, Sampler, Estimator, Session, Options\n",
    "\n",
    "# Loading your IBM Quantum account(s)\n",
    "service = QiskitRuntimeService(channel=\"ibm_quantum\")\n",
    "\n",
    "# Invoke a primitive. For more details see https://qiskit.org/documentation/partners/qiskit_ibm_runtime/tutorials.html\n",
    "# result = Sampler(\"ibmq_qasm_simulator\").run(circuits).result()"
   ]
  },
  {
   "cell_type": "code",
   "execution_count": 3,
   "id": "faf8f442-7a25-440a-ba63-45b979cae5b9",
   "metadata": {
    "tags": []
   },
   "outputs": [
    {
     "name": "stdout",
     "output_type": "stream",
     "text": [
      "maximize 10*x_0 + 13*x_1 + 18*x_2 + 31*x_3 + 7*x_4 (5 variables, 1 constraints, 'Knapsack')\n"
     ]
    }
   ],
   "source": [
    "def knapsack_quadratic_program(values, weights, max_weight):\n",
    "    # Instância de Model do Docplex para definição do problema\n",
    "    mod = Model(name=\"Knapsack\")\n",
    "\n",
    "    num_items = len(values)\n",
    "\n",
    "    # Criação de variáveis binárias para representar a escolha de cada item\n",
    "    x = []\n",
    "    for i in range(num_items):\n",
    "        x_i = mod.binary_var(name=f\"x_{i}\")\n",
    "        #print(x_i)\n",
    "        x.append(x_i)\n",
    "\n",
    "    # Definição da função objetivo\n",
    "    mod.maximize(mod.sum(values[i] * x[i] for i in range(num_items)))\n",
    "\n",
    "    # Adição da restrição de que o peso total não pode exceder a capacidade máxima\n",
    "    mod.add(mod.sum(weights[i] * x[i] for i in range(num_items)) <= max_weight)\n",
    "\n",
    "    op = from_docplex_mp(mod)\n",
    "\n",
    "    return op\n",
    "\n",
    "def interpret(result):\n",
    "    result_dic = result.variables_dict\n",
    "    result_list = []\n",
    "    index = 0\n",
    "    for value in result_dic.values():\n",
    "        if value == 1:\n",
    "            result_list.append(index)\n",
    "        index += 1\n",
    "    return result_list\n",
    "\n",
    "# Dados do problema da mochila\n",
    "values = [10, 13, 18, 31, 7]\n",
    "weights = [2, 4, 6, 7, 3]\n",
    "max_weight = 10\n",
    "\n",
    "qp = knapsack_quadratic_program(values, weights, max_weight)\n",
    "print(qp)\n"
   ]
  },
  {
   "cell_type": "markdown",
   "id": "a57742f3-66d0-45e9-bf9d-0d846db884cf",
   "metadata": {},
   "source": [
    "A seguir será explicada a lógica da construção de código da função `knapsack_quadratic_program`:\n",
    "\n",
    "1. **Criando um modelo**:\n",
    "   Primeiro foi utilizada a classe `Model` da biblioteca Docplex para criar uma instância de um modelo de programação matemática. Sendo o Docplex um framework para a modelagem e resolução de problemas de otimização.\n",
    "\n",
    "2. **Definição dos Dados**:\n",
    "   Depois, o número de itens no problema foi determinado com base no comprimento da lista `values` (que possui o mesmo tamanho que a lista `weights`). Isso é importante para controlar o número de variáveis binárias que serão criadas.\n",
    "\n",
    "3. **Criação de Variáveis Binárias**:\n",
    "   Com o número de dados definidos: \n",
    "   - Foi criada uma lista vazia chamada `x` para armazenar as variáveis binárias.\n",
    "   - Por meio de um loop, foi criada uma variável binária `x_i` para cada item. O nome da variável é definido como \"x_i\", onde \"i\" é o índice do item.\n",
    "   - Por fim, cada variável binária foi adicionada à lista `x`. Essas variáveis binárias representarão a escolha de cada item, ou seja, se o item i é escolhido (valor 1) ou não (valor 0).\n",
    "\n",
    "   Assim, suponhamos que temos 3 itens (0, 1 e 3), então após esse passo, teríamos as variáveis binárias `x_0`, `x_1` e `x_2`.\n",
    "\n",
    "4. **Definição da Função Objetivo**:\n",
    "   Para definir a função objetivo do problema, foi usado o `mod.maximize()` . Sendo assim, a função objetivo irá maximizar o valor total dos itens escolhidos na mochila. Para isso, somamos os produtos de `values[i]` (valor do item) e `x[i]` (variável binária correspondente) para todos os itens.\n",
    "\n",
    "\n",
    "5. **Adição de Restrições**:\n",
    "   Além disso, uma restrição foi adicionada para garantir que o peso total dos itens escolhidos não exceda a capacidade máxima da mochila (`max_weight`). A restrição é uma soma dos produtos dos pesos dos itens e das variáveis binárias correspondentes. Ela é adicionada ao modelo com `mod.add()`.\n",
    "\n",
    "\n",
    "6. **Conversão para QuadraticProgram**:\n",
    "   Por fim, o modelo criado no Docplex é convertido para um objeto `QuadraticProgram` usando a função `from_docplex_mp`. Isso permite que sejam usadas as funcionalidades do Qiskit para resolver o problema de otimização quadrática.\n",
    "\n",
    "O objeto `QuadraticProgram`, que representa o problema de otimização quadrática, contém todas as informações necessárias, incluindo variáveis, função objetivo e restrições. Uma vez que ele é criado, pode então ser retornado pela função `knapsack_quadratic_program`\n",
    "\n"
   ]
  },
  {
   "cell_type": "markdown",
   "id": "f1a3b3fa-1436-4a50-bf8c-c0b2e3552fb2",
   "metadata": {},
   "source": [
    "Como foi explicado anteriormente, a função `knapsack_quadratic_program` apenas monta a função quadrática do problema da mochila, tendo como base seus itens, seus pesos e valores e a restrição de capacidade de peso da mochila.  Uma vez que essa função é montada, ela deve ser então aplicada em um algoritmo de otimização que retornará o resultado que possui as variáveis binárias que representam quais itens da mochila foram selecionados (aqueles que possuem valor como 1). Assim, a função `interpret` foi criada para interpretar esse resultado e saber qual o valor foi atingido com os itens selecionados para a mochila. Abaixo sua lógica será explicada detalhadamente:\n",
    "\n",
    "1. **Processamento do Resultado da Otimização**:\n",
    "   O objetivo da função `interpret` é processar o resultado da otimização, que é um conjunto de variáveis binárias com valores 0 ou 1, indicando quais itens foram escolhidos e quais não foram.\n",
    "\n",
    "2. **Variáveis de Saída**:\n",
    "   - `result_dic`: A função recebe o resultado da otimização como entrada, que é uma estrutura de dados (dicionário) onde as chaves são os nomes das variáveis e os valores são os valores atribuídos a essas variáveis na solução da otimização.\n",
    "\n",
    "   - `result_list`: Esta é a lista que a função vai retornar, contendo os índices dos itens que foram escolhidos (ou seja, aqueles com valor 1 nas variáveis binárias).\n",
    "\n",
    "3. **Processamento do Resultado**:\n",
    "   A função `interpret` realiza o seguinte processamento:\n",
    "   - Ela inicia uma variável `index` como 0, que será usada para acompanhar o índice dos itens.\n",
    "   - Em seguida, itera através do dicionário `result_dic`. Para cada valor (0 ou 1) no dicionário:\n",
    "     - Se o valor for igual a 1, isso significa que o item correspondente foi escolhido. Nesse caso, o índice do item (representado por `index`) é adicionado à lista `result_list`.\n",
    "     - O índice é então incrementado para que possamos continuar rastreando os índices dos itens.\n",
    "\n",
    "4. **Retorno da Lista de Itens Escolhidos**:\n",
    "   Após o processamento, a função retorna a lista `result_list`, que contém os índices dos itens que foram escolhidos na solução da otimização. Esses índices podem ser usados para identificar quais itens estão na mochila com base nos dados originais.\n",
    "\n",
    "Dessa forma, a função `interpret` permite extrair os itens escolhidos da solução da otimização e fornece uma representação mais compreensível do resultado para o usuário."
   ]
  },
  {
   "cell_type": "markdown",
   "id": "c0b32ca1-d8ad-440d-8790-31a03eb2c95a",
   "metadata": {},
   "source": [
    "#### **4.3 Implementação do Algoritmo de Otimização: QAOA + COBYLA**\n",
    "\n",
    "Como mencionado anteriormente, a busca por soluções ótimas para problemas NP-Completo é uma tarefa desafiadora. Uma abordagem para lidar com tais problemas é o uso de algoritmos de aproximação, que buscam encontrar soluções que se aproximem do ótimo, ainda que não sejam necessariamente as soluções ideais. No contexto dessa busca por soluções de qualidade, surgiram os algoritmos de aproximação quântica, conhecidos como QAA (Quantum Approximation Algorithms). Esses algoritmos têm como foco a utilização dos recursos quânticos para obter soluções de alta qualidade, em vez de simplesmente acelerar o tempo de execução, superando, assim, as limitações associadas aos ganhos de velocidade na computação quântica.\n",
    "\n",
    "E como qualquer algoritmo quântico, parte-se de uma sequência de $n$ qubits que serão manipulados com portas quânticas para depois obter o estado final que será medido. Esse raciocínio pode ser representado melhor na imagem abaixo:\n",
    "\n",
    "<div>\n",
    "<img src=\"quantum_algorithms.png\" width=\"550\"/>\n",
    "</div>\n",
    "\n",
    "Imagem retirada de: https://www.osti.gov/servlets/purl/1526360.\n",
    "\n",
    "\n",
    "Um dos algoritmos mais conhecidos nesse campo de otimização quântica é o QAOA (Quantum Approximate Optimization Algorithm), sendo conhecido por encontrar soluções aproximadas para problemas de otimização combinatorial, como é o caso do problema da mochila. Os passos desse algoritmo, de maneira simplicada, podem ser explicados da seguinte maneira:\n",
    "\n",
    "O algoritmo Quantum Approximate Optimization Algorithm (QAOA) é uma técnica que utiliza a computação quântica para resolver problemas de otimização. Aqui estão os passos simplificados desse algoritmo:\n",
    "\n",
    "1. **Definir Hamiltoniano de Custo (HC)**: O primeiro passo é criar um Hamiltoniano (um conceito da física quântica) que representa o problema de otimização. Este Hamiltoniano é chamado de Hamiltoniano de Custo (HC) e é projetado de modo que seu estado fundamental (estado de menor energia) represente a solução ideal do problema.\n",
    "\n",
    "2. **Definir Hamiltoniano de Mistura (HM)**: Outro Hamiltoniano, chamado Hamiltoniano de Mistura (HM), é criado. Ele serve para \"misturar\" os estados quânticos, tornando-os mais exploratórios.\n",
    "\n",
    "3. **Construir Camadas de Circuito**: São construídas camadas de circuito quântico. Uma camada é composta por duas partes: a primeira aplica uma operação relacionada ao HC com um ângulo chamado $γ$, e a segunda aplica uma operação relacionada ao HM com um ângulo chamado $α$. Essas camadas são repetidas várias vezes.\n",
    "\n",
    "4. **Preparar um Estado Inicial**: Começa-se com um estado inicial e aplica-se repetidamente as camadas de HC e HM.\n",
    "\n",
    "5. **Otimizar Parâmetros**: Usam-se técnicas clássicas para encontrar os melhores ângulos $γ$ e $α$ que minimizam a energia do sistema, ou seja, levam ao estado de menor energia, que é a solução.\n",
    "\n",
    "6. **Realizar Medidas**: Por fim, realizam-se medidas no estado final do circuito otimizado. As informações obtidas a partir dessas medidas dão uma solução aproximada para o problema de otimização.\n",
    "\n",
    "Em resumo, o QAOA começa com a definição de Hamiltonianos que representam o problema, constrói camadas de circuito usando esses Hamiltonianos, otimiza os ângulos dessas camadas para encontrar uma solução de baixa energia e, por fim, faz medições para obter uma solução aproximada para o problema de otimização. Esse circuito que possui essas camadas de Hamiltonianos pode ser descrito matematicamente da seguinte forma:\n",
    "\n",
    "<div>\n",
    "<img src=\"circuit_qaoa.png\" width=\"400\"/>\n",
    "</div>\n",
    "\n",
    "Imagem retirada de: https://pennylane.ai/qml/demos/tutorial_qaoa_intro.\n",
    "\n",
    "\n",
    "Mas para conectar o problema da mochila ao QAOA, será utilizada a classe do Qiskit chamada `MinimumEigenOptimizer`, que atua como uma interface entre o problema de otimização e os algoritmos de otimização quântica. A função principal do `MinimumEigenOptimizer` é permitir que seja inserido um solucionador quântico capaz de encontrar o mínimo da função de energia (ou Hamiltoniana) associada ao problema.\n",
    "\n",
    "Para o QAOA, essa função de energia é usada para representar a função objetivo do problema da mochila, ou seja, o valor total dos itens selecionados. Ela é expressa na forma de uma matriz associada ao problema, que é criada com base na formulação quadrática do problema. Em outras palavras, o `MinimumEigenOptimizer` traduz o problema da mochila em uma representação matricial compatível com o QAOA.\n",
    "\n",
    "O QAOA, por sua vez, é utilizado como o resolvedor da otimização. Sua função é encontrar uma solução aproximada para o problema da mochila, maximizando o valor total dos itens dentro das restrições de peso.\n",
    "\n",
    "Além disso, para aperfeiçoar o desempenho do QAOA na resolução do problema da mochila, foi empregado o otimizador COBYLA. Este otimizador clássico é utilizado para ajustar os parâmetros do QAOA. No contexto do QAOA, os parâmetros, denotados como $γ$ e $α$, são essenciais para determinar como as operações quânticas de camada (HC e HM) afetam a solução do problema. Esses parâmetros precisam ser otimizados para encontrar a melhor solução aproximada, ou seja, a combinação ideal de itens a serem colocados na mochila.\n",
    "\n",
    "O COBYLA é uma escolha comum para otimização de parâmetros em algoritmos de otimização quântica, pois é especialmente adequado para problemas de otimização não linear e aqueles com restrições, como é o caso do problema da mochila, onde o peso total não deve exceder a capacidade máxima da mochila. Assim, o otimizador COBYLA ajusta os valores de $γ$ e $α$ de forma iterativa, buscando encontrar a melhor solução ou uma aproximação aceitável que maximize o valor total dos itens selecionados.\n",
    "\n",
    "\n"
   ]
  },
  {
   "cell_type": "markdown",
   "id": "ad8f3446-dda0-438f-9aba-a41803ab435e",
   "metadata": {},
   "source": [
    "O código que implementa essa solução pode ser visto abaixo:"
   ]
  },
  {
   "cell_type": "code",
   "execution_count": 7,
   "id": "1b08e999-a558-4617-9750-c43b060740a5",
   "metadata": {
    "tags": []
   },
   "outputs": [
    {
     "name": "stdout",
     "output_type": "stream",
     "text": [
      "result:\n",
      " objective function value: 41.0\n",
      "variable values: x_0=1.0, x_1=0.0, x_2=0.0, x_3=1.0, x_4=0.0\n",
      "status: SUCCESS\n",
      "<class 'qiskit_optimization.algorithms.minimum_eigen_optimizer.MinimumEigenOptimizationResult'>\n",
      "\n",
      " index of the chosen items: [0, 3]\n"
     ]
    }
   ],
   "source": [
    "# QAOA\n",
    "from qiskit.primitives import Sampler\n",
    "from qiskit_aer.primitives import Sampler as AerSampler\n",
    "from qiskit.algorithms.optimizers import COBYLA\n",
    "\n",
    "seed = 123\n",
    "algorithm_globals.random_seed = seed\n",
    "sampler = Sampler()\n",
    "aer_sampler = AerSampler(run_options={\"shots\": 1000, \"seed\": seed})\n",
    "\n",
    "optimizer = COBYLA()\n",
    "qaoa = QAOA(aer_sampler, optimizer, reps=2)\n",
    "meo = MinimumEigenOptimizer(min_eigen_solver= qaoa)\n",
    "result = meo.solve(qp)\n",
    "                   \n",
    "print('result:\\n', result.prettyprint())\n",
    "print(type(result))\n",
    "print('\\n index of the chosen items:', interpret(result)) "
   ]
  },
  {
   "cell_type": "markdown",
   "id": "95ada06b-0949-43ab-8433-a8a9d1fb552a",
   "metadata": {
    "tags": []
   },
   "source": [
    "A seguir será explicada a lógica da implementação do QAOA:\n",
    "\n",
    "1. **Configuração dos Parâmetros**:\n",
    "   -  Uma semente é definida para a geração de números aleatórios. Isso garante que os resultados sejam reproduzíveis.\n",
    "\n",
    "2. **Configuração do Sampler Quântico**:\n",
    "   - Um sampler quântico é criado, sendo responsável por simular a execução de circuitos quânticos em um simulador quântico.\n",
    "   - Ele é configurado para executar os circuitos quânticos com 1000 *shots* e usar a semente de números aleatórios definida anteriormente.\n",
    "\n",
    "3. **Configuração do Otimizador Clássico COBYLA**:\n",
    "   - O otimizador clássico COBYLA é definido, para depois ser usado a fim de ajustar os parâmetros do algoritmo QAOA. \n",
    "\n",
    "4. **Configuração do Algoritmo QAOA**:\n",
    "   - O algoritmo QAOA é configurado com as seguintes opções:\n",
    "     - `aer_sampler`: O sampler quântico que será usado para executar os circuitos quânticos do QAOA.\n",
    "     - `optimizer`: O otimizador clássico COBYLA, que será usado para ajustar os parâmetros do QAOA.\n",
    "     - `reps=2`: Define o número de repetições (ou camadas) do QAOA. O valor 2 indica que o algoritmo terá duas camadas.\n",
    "\n",
    "5. **Configuração do MinimumEigenOptimizer (meo)**:\n",
    "   - O MinimumEigenOptimizer é configurado tendo o QAOA como o resolvedor da otimização, permitindo encontrar uma solução aproximada para o problema da mochila usando um algoritmo quântico.\n",
    "\n",
    "6. **Resolução do Problema**:\n",
    "   - Por fim, o problema de otimização quadrática (representado pelo objeto `qp`) é resolvido utilizando o MinimumEigenOptimizer e, por sua vez, o QAOA e o COBYLA.\n",
    "\n",
    "E, como visto na implementação, para o problema definido com os seguintes parâmetros:\n",
    "\n",
    "- Valores dos itens: [10, 13, 18, 31, 7]\n",
    "- Pesos dos itens: [2, 4, 6, 7, 3]\n",
    "- Capacidade máxima da mochila: 10\n",
    "\n",
    "A solução encontrada retorna um valor de 41, incluindo na mochila os itens de índice 0 e 3, conforme esperado."
   ]
  },
  {
   "cell_type": "markdown",
   "id": "3a1f39a1-11b2-4c04-bdb2-2f0b990746d4",
   "metadata": {},
   "source": [
    "### **5. Referências** <a class=\"anchor\" id=\"fifth-bullet\"></a>\n",
    "\n",
    "- CERONI, Jack. \"Intro to QAOA\". 2020. Disponível em: https://pennylane.ai/qml/demos/tutorial_qaoa_intro. Acesso em: 15 out. 2023.\n",
    "\n",
    "- QISKIT COMMUNITY. \"qiskit-optimization\". Disponível em: https://github.com/qiskit-community/qiskit-optimization/blob/d6cb5fcd5cbd1637a392b6184bf7fc8956b3a507/qiskit_optimization/applications/knapsack.py#L25 . Acesso em: 15 out. 2023.\n",
    "\n",
    "- QISKIT. \"QAOA\". 2023. Disponível em: https://qiskit.org/ecosystem/algorithms/stubs/qiskit_algorithms.QAOA.html. Acesso em: 15 out. 2023.\n",
    "\n",
    "- QISKIT. \"Quadratic Programs\". 2023. Disponível em: https://qiskit.org/ecosystem/optimization/tutorials/01_quadratic_program.html. Acesso em: 15 out. 2023.\n",
    "\n",
    "- QISKIT. \"Optimizers\". 2023. Disponível em: https://qiskit.org/documentation/stubs/qiskit.algorithms.optimizers.html. Acesso em: 15 out. 2023.\n",
    "\n",
    "- PAREKH, Ojas D. \"Quantum Optimization Algorithms\". 2018. Disponível em: https://www.osti.gov/servlets/purl/1526360. Acesso em: 15 out. 2023.\n",
    "\n",
    "\n",
    "EOF"
   ]
  },
  {
   "cell_type": "markdown",
   "id": "f6e0ea20-9240-4831-917a-7921b2dedc71",
   "metadata": {
    "tags": []
   },
   "source": [
    "DAQUI PARA BAIXO É A IMPLEMENTAÇÃO ANTERIOR COM A BIBLIOTECA PRONTAAAAAAAAAAAAAAAAAAAAAAAAAAAAA:"
   ]
  },
  {
   "cell_type": "code",
   "execution_count": 9,
   "id": "032fe8b3-e115-4322-8b30-72ba21b54ea7",
   "metadata": {
    "tags": []
   },
   "outputs": [
    {
     "data": {
      "text/plain": [
       "<qiskit_optimization.applications.knapsack.Knapsack at 0x7f9a2a808280>"
      ]
     },
     "execution_count": 9,
     "metadata": {},
     "output_type": "execute_result"
    }
   ],
   "source": [
    "def knapsack_quadratic_program():\n",
    "    # Put values, weights and max_weight parameter for the Knapsack()\n",
    "    values = [10, 13, 18, 31, 7]\n",
    "    weights = [2, 4, 6, 7, 3]\n",
    "    max_weight = 10\n",
    "    ##############################\n",
    "    # Provide your code here\n",
    "    \n",
    "    \n",
    "    prob = Knapsack(values, weights, max_weight)\n",
    "    \n",
    "    ##############################\n",
    "    # to_quadratic_program generates a corresponding QuadraticProgram of the instance of the knapsack problem.\n",
    "    kqp = prob.to_quadratic_program()\n",
    "    return prob, kqp\n",
    "\n",
    "prob,quadratic_program=knapsack_quadratic_program()\n",
    "quadratic_program\n",
    "prob"
   ]
  },
  {
   "cell_type": "markdown",
   "id": "cde1f85a-d8df-49b3-ad04-b3df175965a5",
   "metadata": {},
   "source": [
    "We can solve the problem using the classical NumPyMinimumEigensolver to find the minimum eigenvector, which may be useful as a reference without doing things by Dynamic Programming; we can also apply QAOA."
   ]
  },
  {
   "cell_type": "code",
   "execution_count": 10,
   "id": "a4487527-97ff-4598-afed-0a39af900d0e",
   "metadata": {
    "tags": []
   },
   "outputs": [
    {
     "name": "stdout",
     "output_type": "stream",
     "text": [
      "result:\n",
      " fval=41.0, x_0=1.0, x_1=0.0, x_2=0.0, x_3=1.0, x_4=0.0, status=SUCCESS\n",
      "\n",
      " index of the chosen items: [0, 3]\n"
     ]
    }
   ],
   "source": [
    "# Numpy Eigensolver\n",
    "meo = MinimumEigenOptimizer(min_eigen_solver=NumPyMinimumEigensolver())\n",
    "result = meo.solve(quadratic_program)\n",
    "print('result:\\n', result)\n",
    "print('\\n index of the chosen items:', prob.interpret(result)) "
   ]
  },
  {
   "cell_type": "code",
   "execution_count": 11,
   "id": "48c46008-af47-4f69-8308-cec351435d50",
   "metadata": {
    "tags": []
   },
   "outputs": [
    {
     "name": "stdout",
     "output_type": "stream",
     "text": [
      "result:\n",
      " fval=41.0, x_0=1.0, x_1=0.0, x_2=0.0, x_3=1.0, x_4=0.0, status=SUCCESS\n",
      "\n",
      " index of the chosen items: [0, 3]\n"
     ]
    }
   ],
   "source": [
    "# QAOA\n",
    "from qiskit.primitives import Sampler\n",
    "from qiskit_aer.primitives import Sampler as AerSampler\n",
    "from qiskit.algorithms.optimizers import COBYLA\n",
    "\n",
    "seed = 123\n",
    "algorithm_globals.random_seed = seed\n",
    "sampler = Sampler()\n",
    "aer_sampler = AerSampler(run_options={\"shots\": 1000, \"seed\": seed})\n",
    "\n",
    "optimizer = COBYLA()\n",
    "\n",
    "qaoa = QAOA(aer_sampler, optimizer, reps=2)\n",
    "meo = MinimumEigenOptimizer(min_eigen_solver= qaoa)\n",
    "result = meo.solve(quadratic_program)\n",
    "print('result:\\n', result)\n",
    "print('\\n index of the chosen items:', prob.interpret(result)) \n",
    "\n"
   ]
  }
 ],
 "metadata": {
  "kernelspec": {
   "display_name": "Python 3 (ipykernel)",
   "language": "python",
   "name": "python3"
  },
  "language_info": {
   "codemirror_mode": {
    "name": "ipython",
    "version": 3
   },
   "file_extension": ".py",
   "mimetype": "text/x-python",
   "name": "python",
   "nbconvert_exporter": "python",
   "pygments_lexer": "ipython3",
   "version": "3.10.8"
  },
  "widgets": {
   "application/vnd.jupyter.widget-state+json": {
    "state": {
     "0158bb52a76f4967b2363e82add8370e": {
      "model_module": "@jupyter-widgets/controls",
      "model_module_version": "2.0.0",
      "model_name": "HTMLStyleModel",
      "state": {
       "description_width": "",
       "font_size": null,
       "text_color": null
      }
     },
     "05fa8cc05b8940bfbcb2b7be05d26d7a": {
      "model_module": "@jupyter-widgets/base",
      "model_module_version": "2.0.0",
      "model_name": "LayoutModel",
      "state": {
       "width": "95px"
      }
     },
     "121ff19e50a4430085301b180042841a": {
      "model_module": "@jupyter-widgets/controls",
      "model_module_version": "2.0.0",
      "model_name": "HBoxModel",
      "state": {
       "children": [
        "IPY_MODEL_fae80a9c108249e2ad38bf9ffb921701",
        "IPY_MODEL_e48725c33e0e415b9c249b72371fce94",
        "IPY_MODEL_22e243ea5fab4898b7dae16756feb8ab",
        "IPY_MODEL_f31c063140754bfcb84265d31b3a2c09",
        "IPY_MODEL_ce0e60b94f72424d9d8edbfd3c1011be"
       ],
       "layout": "IPY_MODEL_fd4c27163a164494b2f4a7506f1b23c5"
      }
     },
     "1a6bfd8921db48099b55f3fc7843656d": {
      "model_module": "@jupyter-widgets/controls",
      "model_module_version": "2.0.0",
      "model_name": "HTMLStyleModel",
      "state": {
       "description_width": "",
       "font_size": null,
       "text_color": null
      }
     },
     "1b3be4a2844545e2831954071d374d2b": {
      "model_module": "@jupyter-widgets/base",
      "model_module_version": "2.0.0",
      "model_name": "LayoutModel",
      "state": {}
     },
     "22e243ea5fab4898b7dae16756feb8ab": {
      "model_module": "@jupyter-widgets/controls",
      "model_module_version": "2.0.0",
      "model_name": "HTMLModel",
      "state": {
       "layout": "IPY_MODEL_05fa8cc05b8940bfbcb2b7be05d26d7a",
       "style": "IPY_MODEL_33e29d2789f8407fa0aee679b38a62b0",
       "value": "<h5>Status</h5>"
      }
     },
     "2b2c808a55e74254a08dec6ab4df55ed": {
      "model_module": "@jupyter-widgets/controls",
      "model_module_version": "2.0.0",
      "model_name": "HTMLStyleModel",
      "state": {
       "description_width": "",
       "font_size": null,
       "text_color": null
      }
     },
     "33e29d2789f8407fa0aee679b38a62b0": {
      "model_module": "@jupyter-widgets/controls",
      "model_module_version": "2.0.0",
      "model_name": "HTMLStyleModel",
      "state": {
       "description_width": "",
       "font_size": null,
       "text_color": null
      }
     },
     "37291a7696b84f85a69fa74cc4976254": {
      "model_module": "@jupyter-widgets/controls",
      "model_module_version": "2.0.0",
      "model_name": "HTMLStyleModel",
      "state": {
       "description_width": "",
       "font_size": null,
       "text_color": null
      }
     },
     "4a7598853beb41ef8037201a7e268d52": {
      "model_module": "@jupyter-widgets/base",
      "model_module_version": "2.0.0",
      "model_name": "LayoutModel",
      "state": {
       "grid_area": "right",
       "padding": "0px 0px 0px 0px",
       "width": "70px"
      }
     },
     "4d091a2632ca4ea28e38f104e2536ee4": {
      "model_module": "@jupyter-widgets/base",
      "model_module_version": "2.0.0",
      "model_name": "LayoutModel",
      "state": {
       "grid_template_areas": "\n                                       \". . . . right \"\n                                        ",
       "grid_template_columns": "20% 20% 20% 20% 20%",
       "width": "100%"
      }
     },
     "5200be2feeb34840bd4aa0ae2924d4ca": {
      "model_module": "@jupyter-widgets/controls",
      "model_module_version": "2.0.0",
      "model_name": "HTMLStyleModel",
      "state": {
       "description_width": "",
       "font_size": null,
       "text_color": null
      }
     },
     "5ab300a937a645ab8d447234537a0428": {
      "model_module": "@jupyter-widgets/base",
      "model_module_version": "2.0.0",
      "model_name": "LayoutModel",
      "state": {
       "width": "145px"
      }
     },
     "68cd3de7ae7442259d1c61fcf7b46be0": {
      "model_module": "@jupyter-widgets/base",
      "model_module_version": "2.0.0",
      "model_name": "LayoutModel",
      "state": {
       "width": "70px"
      }
     },
     "7190a4062488444d851f64a8951409a5": {
      "model_module": "@jupyter-widgets/controls",
      "model_module_version": "2.0.0",
      "model_name": "ButtonStyleModel",
      "state": {
       "font_family": null,
       "font_size": null,
       "font_style": null,
       "font_variant": null,
       "font_weight": null,
       "text_color": null,
       "text_decoration": null
      }
     },
     "7e839f813c4f4c82a3f887d982b1364d": {
      "model_module": "@jupyter-widgets/base",
      "model_module_version": "2.0.0",
      "model_name": "LayoutModel",
      "state": {
       "margin": "0px 0px 10px 0px"
      }
     },
     "ce0e60b94f72424d9d8edbfd3c1011be": {
      "model_module": "@jupyter-widgets/controls",
      "model_module_version": "2.0.0",
      "model_name": "HTMLModel",
      "state": {
       "layout": "IPY_MODEL_1b3be4a2844545e2831954071d374d2b",
       "style": "IPY_MODEL_0158bb52a76f4967b2363e82add8370e",
       "value": "<h5>Message</h5>"
      }
     },
     "dada55910ea340eba83a2b0c518044e7": {
      "model_module": "@jupyter-widgets/controls",
      "model_module_version": "2.0.0",
      "model_name": "ButtonModel",
      "state": {
       "button_style": "primary",
       "description": "Clear",
       "layout": "IPY_MODEL_4a7598853beb41ef8037201a7e268d52",
       "style": "IPY_MODEL_7190a4062488444d851f64a8951409a5",
       "tooltip": null
      }
     },
     "dbbc9fc93a484928a973414b306bb9be": {
      "model_module": "@jupyter-widgets/base",
      "model_module_version": "2.0.0",
      "model_name": "LayoutModel",
      "state": {
       "width": "190px"
      }
     },
     "e48725c33e0e415b9c249b72371fce94": {
      "model_module": "@jupyter-widgets/controls",
      "model_module_version": "2.0.0",
      "model_name": "HTMLModel",
      "state": {
       "layout": "IPY_MODEL_5ab300a937a645ab8d447234537a0428",
       "style": "IPY_MODEL_37291a7696b84f85a69fa74cc4976254",
       "value": "<h5>Backend</h5>"
      }
     },
     "f31c063140754bfcb84265d31b3a2c09": {
      "model_module": "@jupyter-widgets/controls",
      "model_module_version": "2.0.0",
      "model_name": "HTMLModel",
      "state": {
       "layout": "IPY_MODEL_68cd3de7ae7442259d1c61fcf7b46be0",
       "style": "IPY_MODEL_1a6bfd8921db48099b55f3fc7843656d",
       "value": "<h5>Queue</h5>"
      }
     },
     "fae80a9c108249e2ad38bf9ffb921701": {
      "model_module": "@jupyter-widgets/controls",
      "model_module_version": "2.0.0",
      "model_name": "HTMLModel",
      "state": {
       "layout": "IPY_MODEL_dbbc9fc93a484928a973414b306bb9be",
       "style": "IPY_MODEL_5200be2feeb34840bd4aa0ae2924d4ca",
       "value": "<h5>Job ID</h5>"
      }
     },
     "fb10e447f16c49fe8230c09e5d607942": {
      "model_module": "@jupyter-widgets/controls",
      "model_module_version": "2.0.0",
      "model_name": "HTMLModel",
      "state": {
       "layout": "IPY_MODEL_7e839f813c4f4c82a3f887d982b1364d",
       "style": "IPY_MODEL_2b2c808a55e74254a08dec6ab4df55ed",
       "value": "<p style='font-family: IBM Plex Sans, Arial, Helvetica, sans-serif; font-size: 20px; font-weight: medium;'>Circuit Properties</p>"
      }
     },
     "fb2f5174d27543dc99f041c56dcd9a79": {
      "model_module": "@jupyter-widgets/controls",
      "model_module_version": "2.0.0",
      "model_name": "GridBoxModel",
      "state": {
       "children": [
        "IPY_MODEL_dada55910ea340eba83a2b0c518044e7"
       ],
       "layout": "IPY_MODEL_4d091a2632ca4ea28e38f104e2536ee4"
      }
     },
     "fd4c27163a164494b2f4a7506f1b23c5": {
      "model_module": "@jupyter-widgets/base",
      "model_module_version": "2.0.0",
      "model_name": "LayoutModel",
      "state": {
       "margin": "0px 0px 0px 37px",
       "width": "600px"
      }
     }
    },
    "version_major": 2,
    "version_minor": 0
   }
  }
 },
 "nbformat": 4,
 "nbformat_minor": 5
}
