{
 "cells": [
  {
   "cell_type": "code",
   "execution_count": 3,
   "id": "f0921920-3167-4357-a038-3d2452d2b9b8",
   "metadata": {
    "tags": []
   },
   "outputs": [],
   "source": [
    "# Importing standard Qiskit libraries\n",
    "from qiskit import QuantumCircuit, transpile\n",
    "from qiskit.tools.jupyter import *\n",
    "from qiskit.visualization import *\n",
    "from ibm_quantum_widgets import *\n",
    "\n",
    "# qiskit-ibmq-provider has been deprecated.\n",
    "# Please see the Migration Guides in https://ibm.biz/provider_migration_guide for more detail.\n",
    "from qiskit_ibm_runtime import QiskitRuntimeService, Sampler, Estimator, Session, Options\n",
    "\n",
    "# Loading your IBM Quantum account(s)\n",
    "service = QiskitRuntimeService(channel=\"ibm_quantum\")\n",
    "\n",
    "# Invoke a primitive. For more details see https://qiskit.org/documentation/partners/qiskit_ibm_runtime/tutorials.html\n",
    "# result = Sampler(\"ibmq_qasm_simulator\").run(circuits).result()"
   ]
  },
  {
   "cell_type": "code",
   "execution_count": 6,
   "id": "9004b7a6-d29a-4bf1-85a6-bed6a9efa831",
   "metadata": {
    "tags": []
   },
   "outputs": [
    {
     "name": "stdout",
     "output_type": "stream",
     "text": [
      "Traceback \u001b[1;36m(most recent call last)\u001b[0m:\n",
      "\u001b[1;36m  Cell \u001b[1;32mIn[6], line 2\u001b[1;36m\n",
      "\u001b[1;33m    from qiskit_optimization.converters import KnapsackToQubo\u001b[1;36m\n",
      "\u001b[1;31mImportError\u001b[0m\u001b[1;31m:\u001b[0m cannot import name 'KnapsackToQubo' from 'qiskit_optimization.converters' (/opt/conda/lib/python3.10/site-packages/qiskit_optimization/converters/__init__.py)\n",
      "\n",
      "Use %tb to get the full traceback.\n"
     ]
    },
    {
     "data": {
      "text/html": [
       "\n",
       "<style>\n",
       ".button {\n",
       "  border: none;\n",
       "  color: white;\n",
       "  padding: 4px 8px;\n",
       "  text-align: center;\n",
       "  text-decoration: none;\n",
       "  display: inline-block;\n",
       "  font-size: 12px;\n",
       "  margin: 4px 2px;\n",
       "  transition-duration: 0.2s;\n",
       "  cursor: pointer;\n",
       "}\n",
       ".iqx-button {\n",
       "  background-color: #0f62fe; \n",
       "  color: white; \n",
       "}\n",
       ".iqx-button:hover {\n",
       "  background-color: #0043ce;\n",
       "  color: white;\n",
       "}\n",
       "</style>\n",
       "<a href=\"https://stackoverflow.com/search?q=ImportError: cannot import name 'KnapsackToQubo' from 'qiskit_optimization.converters' (/opt/conda/lib/python3.10/site-packages/qiskit_optimization/converters/__init__.py)\" target='_blank'><button class='button iqx-button'>Search for solution online</button></a>\n"
      ],
      "text/plain": [
       "<IPython.core.display.HTML object>"
      ]
     },
     "metadata": {},
     "output_type": "display_data"
    }
   ],
   "source": [
    "from qiskit_optimization import QuadraticProgram\n",
    "from qiskit_optimization.converters import KnapsackToQubo\n",
    "\n",
    "def knapsack_quadratic_program(values, weights, max_weight):\n",
    "    # Crie uma instância de QuadraticProgram\n",
    "    qp = QuadraticProgram()\n",
    "\n",
    "    # Defina as variáveis binárias para representar a escolha de cada item\n",
    "    num_items = len(values)\n",
    "    x = qp.binary_var_list(name=\"x\", length=num_items)\n",
    "\n",
    "    # Defina a função objetivo para maximizar o valor total dos itens escolhidos\n",
    "    qp.maximize(linear=[values[i] * x[i] for i in range(num_items)])\n",
    "\n",
    "    # Adicione a restrição de que o peso total não pode exceder a capacidade máxima\n",
    "    qp.linear_constraint(linear=[weights[i] * x[i] for i in range(num_items)], sense=\"LE\", rhs=max_weight, name=\"weight_constraint\")\n",
    "\n",
    "    kqp = prob.to_quadratic_program()\n",
    "    return prob, kqp\n",
    "\n",
    "# Dados do problema da mochila\n",
    "values = [10, 13, 18, 31, 7]\n",
    "weights = [2, 4, 6, 7, 3]\n",
    "max_weight = 10\n",
    "\n",
    "# Criar o problema de otimização quadrática (QUBO) correspondente\n",
    "qubo = knapsack_quadratic_program(values, weights, max_weight)\n",
    "\n",
    "# Agora você pode resolver o QUBO usando o QAOA ou outro algoritmo quântico\n"
   ]
  },
  {
   "cell_type": "code",
   "execution_count": 15,
   "id": "032fe8b3-e115-4322-8b30-72ba21b54ea7",
   "metadata": {
    "tags": []
   },
   "outputs": [
    {
     "data": {
      "text/plain": [
       "<QuadraticProgram: maximize 10*x_0 + 13*x_1 + 18*x_2 + 31*x_3 + 7*x_4, 5 variables, 1 constraints, 'Knapsack'>"
      ]
     },
     "execution_count": 15,
     "metadata": {},
     "output_type": "execute_result"
    }
   ],
   "source": [
    "from qiskit_optimization.applications import Knapsack\n",
    "from qiskit_optimization.algorithms import MinimumEigenOptimizer\n",
    "from qiskit import Aer\n",
    "from qiskit.utils import algorithm_globals, QuantumInstance\n",
    "from qiskit.algorithms.minimum_eigensolvers import NumPyMinimumEigensolver, QAOA\n",
    "import numpy as np\n",
    "\n",
    "def knapsack_quadratic_program():\n",
    "    # Put values, weights and max_weight parameter for the Knapsack()\n",
    "    values = [10, 13, 18, 31, 7]\n",
    "    weights = [2, 4, 6, 7, 3]\n",
    "    max_weight = 10\n",
    "    ##############################\n",
    "    # Provide your code here\n",
    "    \n",
    "    \n",
    "    prob = Knapsack(values, weights, max_weight)\n",
    "    \n",
    "    ##############################\n",
    "    # to_quadratic_program generates a corresponding QuadraticProgram of the instance of the knapsack problem.\n",
    "    kqp = prob.to_quadratic_program()\n",
    "    return prob, kqp\n",
    "\n",
    "prob,quadratic_program=knapsack_quadratic_program()\n",
    "quadratic_program"
   ]
  },
  {
   "cell_type": "markdown",
   "id": "cde1f85a-d8df-49b3-ad04-b3df175965a5",
   "metadata": {},
   "source": [
    "We can solve the problem using the classical NumPyMinimumEigensolver to find the minimum eigenvector, which may be useful as a reference without doing things by Dynamic Programming; we can also apply QAOA."
   ]
  },
  {
   "cell_type": "code",
   "execution_count": 16,
   "id": "a4487527-97ff-4598-afed-0a39af900d0e",
   "metadata": {
    "tags": []
   },
   "outputs": [
    {
     "name": "stdout",
     "output_type": "stream",
     "text": [
      "result:\n",
      " fval=41.0, x_0=1.0, x_1=0.0, x_2=0.0, x_3=1.0, x_4=0.0, status=SUCCESS\n",
      "\n",
      " index of the chosen items: [0, 3]\n"
     ]
    }
   ],
   "source": [
    "# Numpy Eigensolver\n",
    "meo = MinimumEigenOptimizer(min_eigen_solver=NumPyMinimumEigensolver())\n",
    "result = meo.solve(quadratic_program)\n",
    "print('result:\\n', result)\n",
    "print('\\n index of the chosen items:', prob.interpret(result)) "
   ]
  },
  {
   "cell_type": "code",
   "execution_count": 20,
   "id": "48c46008-af47-4f69-8308-cec351435d50",
   "metadata": {
    "tags": []
   },
   "outputs": [
    {
     "name": "stdout",
     "output_type": "stream",
     "text": [
      "result:\n",
      " fval=41.0, x_0=1.0, x_1=0.0, x_2=0.0, x_3=1.0, x_4=0.0, status=SUCCESS\n",
      "\n",
      " index of the chosen items: [0, 3]\n"
     ]
    }
   ],
   "source": [
    "# QAOA\n",
    "from qiskit.primitives import Sampler\n",
    "from qiskit_aer.primitives import Sampler as AerSampler\n",
    "from qiskit.algorithms.optimizers import COBYLA\n",
    "\n",
    "seed = 123\n",
    "algorithm_globals.random_seed = seed\n",
    "sampler = Sampler()\n",
    "aer_sampler = AerSampler(run_options={\"shots\": 1000, \"seed\": seed})\n",
    "\n",
    "optimizer = COBYLA()\n",
    "\n",
    "meo = MinimumEigenOptimizer(min_eigen_solver=QAOA(aer_sampler, optimizer, reps=2))\n",
    "result = meo.solve(quadratic_program)\n",
    "print('result:\\n', result)\n",
    "print('\\n index of the chosen items:', prob.interpret(result)) \n"
   ]
  },
  {
   "cell_type": "code",
   "execution_count": 22,
   "id": "7a9dc66c-abc3-4384-95e9-b8c70fbf5b52",
   "metadata": {
    "tags": []
   },
   "outputs": [
    {
     "name": "stdout",
     "output_type": "stream",
     "text": [
      "Traceback \u001b[1;36m(most recent call last)\u001b[0m:\n",
      "\u001b[0m  Cell \u001b[0;32mIn[22], line 23\u001b[0m\n",
      "    qubo = knapsack_quadratic_program(values, weights, max_weight)\u001b[0m\n",
      "\u001b[1;36m  Cell \u001b[1;32mIn[22], line 7\u001b[1;36m in \u001b[1;35mknapsack_quadratic_program\u001b[1;36m\n",
      "\u001b[1;33m    x = qp.binary_var_list(name=\"x\", length=num_items)\u001b[1;36m\n",
      "\u001b[1;31mTypeError\u001b[0m\u001b[1;31m:\u001b[0m QuadraticProgram.binary_var_list() got an unexpected keyword argument 'length'\n",
      "\n",
      "Use %tb to get the full traceback.\n"
     ]
    },
    {
     "data": {
      "text/html": [
       "\n",
       "<style>\n",
       ".button {\n",
       "  border: none;\n",
       "  color: white;\n",
       "  padding: 4px 8px;\n",
       "  text-align: center;\n",
       "  text-decoration: none;\n",
       "  display: inline-block;\n",
       "  font-size: 12px;\n",
       "  margin: 4px 2px;\n",
       "  transition-duration: 0.2s;\n",
       "  cursor: pointer;\n",
       "}\n",
       ".iqx-button {\n",
       "  background-color: #0f62fe; \n",
       "  color: white; \n",
       "}\n",
       ".iqx-button:hover {\n",
       "  background-color: #0043ce;\n",
       "  color: white;\n",
       "}\n",
       "</style>\n",
       "<a href=\"https://stackoverflow.com/search?q=TypeError: QuadraticProgram.binary_var_list() got an unexpected keyword argument 'length'\" target='_blank'><button class='button iqx-button'>Search for solution online</button></a>\n"
      ],
      "text/plain": [
       "<IPython.core.display.HTML object>"
      ]
     },
     "metadata": {},
     "output_type": "display_data"
    }
   ],
   "source": [
    "def knapsack_quadratic_program(values, weights, max_weight):\n",
    "    # Crie uma instância de QuadraticProgram\n",
    "    qp = QuadraticProgram()\n",
    "\n",
    "    # Defina as variáveis binárias para representar a escolha de cada item\n",
    "    num_items = len(values)\n",
    "    x = qp.binary_var_list(name=\"x\", length=num_items)\n",
    "\n",
    "    # Defina a função objetivo para maximizar o valor total dos itens escolhidos\n",
    "    qp.maximize(linear=[values[i] * x[i] for i in range(num_items)])\n",
    "\n",
    "    # Adicione a restrição de que o peso total não pode exceder a capacidade máxima\n",
    "    qp.linear_constraint(linear=[weights[i] * x[i] for i in range(num_items)], sense=\"LE\", rhs=max_weight, name=\"weight_constraint\")\n",
    "\n",
    "    return qp\n",
    "\n",
    "# Dados do problema da mochila\n",
    "values = [10, 13, 18, 31, 7]\n",
    "weights = [2, 4, 6, 7, 3]\n",
    "max_weight = 10\n",
    "\n",
    "# Criar o problema de otimização quadrática (QUBO) correspondente\n",
    "qubo = knapsack_quadratic_program(values, weights, max_weight)"
   ]
  },
  {
   "cell_type": "code",
   "execution_count": null,
   "id": "aede6c1c-c156-40ed-a436-7a1f8ab3e955",
   "metadata": {},
   "outputs": [],
   "source": []
  }
 ],
 "metadata": {
  "kernelspec": {
   "display_name": "Python 3 (ipykernel)",
   "language": "python",
   "name": "python3"
  },
  "language_info": {
   "codemirror_mode": {
    "name": "ipython",
    "version": 3
   },
   "file_extension": ".py",
   "mimetype": "text/x-python",
   "name": "python",
   "nbconvert_exporter": "python",
   "pygments_lexer": "ipython3",
   "version": "3.10.8"
  },
  "widgets": {
   "application/vnd.jupyter.widget-state+json": {
    "state": {
     "03e073592ef741dcbadfe53bc2115bb5": {
      "model_module": "@jupyter-widgets/controls",
      "model_module_version": "2.0.0",
      "model_name": "HTMLModel",
      "state": {
       "layout": "IPY_MODEL_d6c9379ed4e74fcfb6d537da41ea24db",
       "style": "IPY_MODEL_a0f105ef026f448ba80975bb1446800f",
       "value": "<h5>Job ID</h5>"
      }
     },
     "0430e7332a994762ac5006f73f860067": {
      "model_module": "@jupyter-widgets/controls",
      "model_module_version": "2.0.0",
      "model_name": "HTMLStyleModel",
      "state": {
       "description_width": "",
       "font_size": null,
       "text_color": null
      }
     },
     "0b5b5f633928473687bb64701bba8cb7": {
      "model_module": "@jupyter-widgets/controls",
      "model_module_version": "2.0.0",
      "model_name": "HBoxModel",
      "state": {
       "children": [
        "IPY_MODEL_03e073592ef741dcbadfe53bc2115bb5",
        "IPY_MODEL_d7f91ca6887e465cb887786826c49455",
        "IPY_MODEL_b2086c6649e84243809afc492d4e57d0",
        "IPY_MODEL_6ce53f1a498348dd9e1b9c1d3ff79db5",
        "IPY_MODEL_9c455952980040629ddcfc149268753b"
       ],
       "layout": "IPY_MODEL_e93b51c3eeb842ed9daefbaae607fa9f"
      }
     },
     "1c3d0af9d6bb4c01bfdfa42d7d610465": {
      "model_module": "@jupyter-widgets/controls",
      "model_module_version": "2.0.0",
      "model_name": "ButtonModel",
      "state": {
       "button_style": "primary",
       "description": "Clear",
       "layout": "IPY_MODEL_733f887a67fd41d5876ba895201e876f",
       "style": "IPY_MODEL_e2b5620104354a039cca89a8d5602ec0",
       "tooltip": null
      }
     },
     "268b412681f441f7a52ae3f29d001f71": {
      "model_module": "@jupyter-widgets/base",
      "model_module_version": "2.0.0",
      "model_name": "LayoutModel",
      "state": {
       "width": "145px"
      }
     },
     "393f80654c1e4a1e8e21d740280b2601": {
      "model_module": "@jupyter-widgets/base",
      "model_module_version": "2.0.0",
      "model_name": "LayoutModel",
      "state": {
       "grid_template_areas": "\n                                       \". . . . right \"\n                                        ",
       "grid_template_columns": "20% 20% 20% 20% 20%",
       "width": "100%"
      }
     },
     "4a6a9b232b264c7c984e2c26b7e86037": {
      "model_module": "@jupyter-widgets/base",
      "model_module_version": "2.0.0",
      "model_name": "LayoutModel",
      "state": {}
     },
     "4c72d030af0c4f5691b21382862ff571": {
      "model_module": "@jupyter-widgets/base",
      "model_module_version": "2.0.0",
      "model_name": "LayoutModel",
      "state": {
       "width": "95px"
      }
     },
     "518f167b983a49c3b280c07c83a4ae45": {
      "model_module": "@jupyter-widgets/controls",
      "model_module_version": "2.0.0",
      "model_name": "GridBoxModel",
      "state": {
       "children": [
        "IPY_MODEL_1c3d0af9d6bb4c01bfdfa42d7d610465"
       ],
       "layout": "IPY_MODEL_393f80654c1e4a1e8e21d740280b2601"
      }
     },
     "56958bf6d5ee488683e759d02af4433f": {
      "model_module": "@jupyter-widgets/controls",
      "model_module_version": "2.0.0",
      "model_name": "HTMLStyleModel",
      "state": {
       "description_width": "",
       "font_size": null,
       "text_color": null
      }
     },
     "6ce53f1a498348dd9e1b9c1d3ff79db5": {
      "model_module": "@jupyter-widgets/controls",
      "model_module_version": "2.0.0",
      "model_name": "HTMLModel",
      "state": {
       "layout": "IPY_MODEL_e843e76a7db240e89075cffd979a4211",
       "style": "IPY_MODEL_56958bf6d5ee488683e759d02af4433f",
       "value": "<h5>Queue</h5>"
      }
     },
     "733f887a67fd41d5876ba895201e876f": {
      "model_module": "@jupyter-widgets/base",
      "model_module_version": "2.0.0",
      "model_name": "LayoutModel",
      "state": {
       "grid_area": "right",
       "padding": "0px 0px 0px 0px",
       "width": "70px"
      }
     },
     "74e1c5067d984dce922dc191d6be74c7": {
      "model_module": "@jupyter-widgets/controls",
      "model_module_version": "2.0.0",
      "model_name": "HTMLStyleModel",
      "state": {
       "description_width": "",
       "font_size": null,
       "text_color": null
      }
     },
     "8315c31caa364db68cd163dcd7e5009a": {
      "model_module": "@jupyter-widgets/controls",
      "model_module_version": "2.0.0",
      "model_name": "HTMLStyleModel",
      "state": {
       "description_width": "",
       "font_size": null,
       "text_color": null
      }
     },
     "99af44407d684d0996fe7ed65bd41dd0": {
      "model_module": "@jupyter-widgets/controls",
      "model_module_version": "2.0.0",
      "model_name": "HTMLModel",
      "state": {
       "layout": "IPY_MODEL_c4553670f46e4fa381412c7198b13fd8",
       "style": "IPY_MODEL_74e1c5067d984dce922dc191d6be74c7",
       "value": "<p style='font-family: IBM Plex Sans, Arial, Helvetica, sans-serif; font-size: 20px; font-weight: medium;'>Circuit Properties</p>"
      }
     },
     "9c455952980040629ddcfc149268753b": {
      "model_module": "@jupyter-widgets/controls",
      "model_module_version": "2.0.0",
      "model_name": "HTMLModel",
      "state": {
       "layout": "IPY_MODEL_4a6a9b232b264c7c984e2c26b7e86037",
       "style": "IPY_MODEL_8315c31caa364db68cd163dcd7e5009a",
       "value": "<h5>Message</h5>"
      }
     },
     "a0f105ef026f448ba80975bb1446800f": {
      "model_module": "@jupyter-widgets/controls",
      "model_module_version": "2.0.0",
      "model_name": "HTMLStyleModel",
      "state": {
       "description_width": "",
       "font_size": null,
       "text_color": null
      }
     },
     "b2086c6649e84243809afc492d4e57d0": {
      "model_module": "@jupyter-widgets/controls",
      "model_module_version": "2.0.0",
      "model_name": "HTMLModel",
      "state": {
       "layout": "IPY_MODEL_4c72d030af0c4f5691b21382862ff571",
       "style": "IPY_MODEL_b5074ba58d3d457da656e21ac9342199",
       "value": "<h5>Status</h5>"
      }
     },
     "b5074ba58d3d457da656e21ac9342199": {
      "model_module": "@jupyter-widgets/controls",
      "model_module_version": "2.0.0",
      "model_name": "HTMLStyleModel",
      "state": {
       "description_width": "",
       "font_size": null,
       "text_color": null
      }
     },
     "c4553670f46e4fa381412c7198b13fd8": {
      "model_module": "@jupyter-widgets/base",
      "model_module_version": "2.0.0",
      "model_name": "LayoutModel",
      "state": {
       "margin": "0px 0px 10px 0px"
      }
     },
     "d6c9379ed4e74fcfb6d537da41ea24db": {
      "model_module": "@jupyter-widgets/base",
      "model_module_version": "2.0.0",
      "model_name": "LayoutModel",
      "state": {
       "width": "190px"
      }
     },
     "d7f91ca6887e465cb887786826c49455": {
      "model_module": "@jupyter-widgets/controls",
      "model_module_version": "2.0.0",
      "model_name": "HTMLModel",
      "state": {
       "layout": "IPY_MODEL_268b412681f441f7a52ae3f29d001f71",
       "style": "IPY_MODEL_0430e7332a994762ac5006f73f860067",
       "value": "<h5>Backend</h5>"
      }
     },
     "e2b5620104354a039cca89a8d5602ec0": {
      "model_module": "@jupyter-widgets/controls",
      "model_module_version": "2.0.0",
      "model_name": "ButtonStyleModel",
      "state": {
       "font_family": null,
       "font_size": null,
       "font_style": null,
       "font_variant": null,
       "font_weight": null,
       "text_color": null,
       "text_decoration": null
      }
     },
     "e843e76a7db240e89075cffd979a4211": {
      "model_module": "@jupyter-widgets/base",
      "model_module_version": "2.0.0",
      "model_name": "LayoutModel",
      "state": {
       "width": "70px"
      }
     },
     "e93b51c3eeb842ed9daefbaae607fa9f": {
      "model_module": "@jupyter-widgets/base",
      "model_module_version": "2.0.0",
      "model_name": "LayoutModel",
      "state": {
       "margin": "0px 0px 0px 37px",
       "width": "600px"
      }
     }
    },
    "version_major": 2,
    "version_minor": 0
   }
  }
 },
 "nbformat": 4,
 "nbformat_minor": 5
}
