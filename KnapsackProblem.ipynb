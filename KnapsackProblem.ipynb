{
 "cells": [
  {
   "cell_type": "markdown",
   "id": "984838bd-2d43-49ce-9c02-e4b0f6aa1d32",
   "metadata": {},
   "source": [
    "# **Projeto de Computação Quântica**\n",
    "\n",
    "## **Problema da Mochila (*The Knapsack Problem*)**\n",
    "\n",
    "\n",
    "Alunos: Bernardo Cunha Capoferri; Lívia Sayuri Makuta.\n",
    "\n",
    "Nesse projeto, será proposto um algoritmo quântico capaz de resolver o Problema da Mochila, que é um problema difícil de ser resolvido através da computação clássica. Mas antes de tratar da implementação dessa solução, primeiro será explicado o que é esse problema, o porquê ele é considerado um problema NP-Completo (problemas cujas soluções podem ser verificadas em tempo polinomial por uma Máquina de Turing não determinística), e a importância desse campo quântico na computação para resolver esse tipo de problemas.\n",
    "\n",
    "## **Índice**:\n",
    "* [1. Descrição do Problema da Mochila](#first-bullet)\n",
    "* [2. Análise da Complexidade do Problema da Mochila](#second-bullet)\n",
    "* [3. O Papel da Computação Quântica na Resolução do Problema da Mochila](#third-bullet)\n",
    "* [4. Oráculo Proposto Inicialmente para o Problema da Mochila](#fourth-bullet)\n",
    "* [5. Testes Feitos com a Solução Proposta](#fifth-bullet)\n",
    "* [6. Segunda solução proposta: VQE (Variational Quantum Eigensolver)](#sixth-bullet)\n",
    "* [7. Montagem do Circuito QAOA](#seventh-bullet)\n",
    "* [8. Referências](#eighth-bullet)\n"
   ]
  },
  {
   "cell_type": "markdown",
   "id": "c6275c8d-6b7d-4dce-8aff-9f4bc472e7ae",
   "metadata": {},
   "source": [
    "### **1. Descrição do Problema da Mochila** <a class=\"anchor\" id=\"first-bullet\"></a>\n",
    "\n",
    "O Problema da Mochila envolve uma mochila com um limite de peso ($W$) e uma coleção de ($n$) itens, representados como $(x_1, x_2, x_3, \\ldots, x_n)$, cada um com um valor $(v_1, v_2, v_3, \\ldots, v_n)$ e um peso $(w_1, w_2, w_3, \\ldots, w_n)$. O objetivo do Problema da Mochila é encontrar a solução de otimização que maximize o valor total dos itens adicionados à mochila, sujeito à restrição de que a soma dos pesos dos itens não pode exceder o limite de peso ($W$).\n",
    "\n",
    "A pergunta fundamental é: Qual é o valor máximo dos itens que podem ser adicionados à mochila sem ultrapassar o limite de peso ($W$)?\n",
    "\n",
    "A imagem a seguir representa como este problema pode ser visualizado:\n",
    "\n",
    "<div>\n",
    "<img src=\"knapsack.png\" width=\"350\" />\n",
    "</div>\n",
    "\n",
    "Imagem retirada de: https://pt.wikipedia.org/wiki/Ficheiro:Knapsack.svg\n",
    "\n",
    "\n",
    "E existem duas abordagens diferentes em relação a este problema, as quais serão descritas nos tópicos a seguir.\n",
    "\n",
    "#### **1.1 Problema da Mochila com Limitação (Bounded Knapsack Problem)**\n",
    "\n",
    "No caso do Problema da Mochila com Limitação, os itens estão sujeitos à condição:\n",
    "\n",
    "$[ 0 \\leq x_i \\leq c, \\ \\forall\\ i=1,2,..,n ]$\n",
    "\n",
    "Nesse contexto, o valor ($c$) denota o número de cópias disponíveis de cada item. Isso significa que existe um limite específico para a quantidade de cada item que pode ser adicionado à mochila, de tal forma que não podem ser incluídos mais itens do que a quantidade máxima definida $(c$).\n",
    "\n",
    "#### **1.2 Problema da Mochila Ilimitada (Unbounded Knapsack Problem)**\n",
    "\n",
    "Por outro lado, no Problema da Mochila Ilimitada, os itens têm a seguinte forma:\n",
    "\n",
    "$[ x_i \\geq 0, \\forall\\ i=1,2,...,n $]\n",
    "\n",
    "No caso da mochila ilimitada, não há limite na quantidade de itens disponíveis. Isso significa que é possível incluir uma quantidade ilimitada de qualquer item na mochila, desde que o peso total não exceda a capacidade máxima da mochila $(W$).\n",
    "\n",
    "Neste projeto, será abordado o Problema da Mochila Ilimitada."
   ]
  },
  {
   "cell_type": "markdown",
   "id": "56134334-4303-4d7d-bf97-3e1234903bff",
   "metadata": {},
   "source": [
    "### **2. Análise da Complexidade do Problema da Mochila** <a class=\"anchor\" id=\"second-bullet\"></a>\n",
    "\n",
    "O Problema da Mochila é um dos problemas mais estudados na teoria da complexidade computacional. Sua complexidade intrínseca se deve a vários fatores que o tornam um exemplo clássico de um problema NP-Completo. Neste tópico, será analisada a complexidade do Problema da Mochila e os motivos pelos quais ele é considerado NP-Completo.\n",
    "\n",
    "#### **2.1 Natureza Exponencial das Possibilidades**\n",
    "\n",
    "O cerne da complexidade do Problema da Mochila reside na natureza exponencial das possibilidades. Suponha-se que existe um conjunto de ($n$) itens, cada um com um valor e um peso. Para encontrar a combinação ótima de itens que maximize o valor total, é preciso considerar todas as ($2^n$) combinações possíveis. Isso ocorre porque, para cada item, temos duas opções: incluí-lo ou excluí-lo da mochila. Portanto, o número de combinações cresce exponencialmente com o número de itens, o que torna a busca por uma solução ótima uma tarefa exponencialmente complexa.\n",
    "\n",
    "#### **2.2 Verificação de Solução**\n",
    "\n",
    "Além da busca exponencial, verificar se uma solução proposta é realmente ótima também é uma tarefa desafiadora. Para verificar se uma determinada combinação de itens atende aos requisitos do Problema da Mochila (ou seja, não excede o limite de peso e maximiza o valor), é necessário calcular o peso total e o valor total. Essa verificação requer tempo linear em relação ao número de itens. Como existem ($2^n$) combinações possíveis, verificar todas essas combinações levaria tempo exponencial. Portanto, a verificação de soluções é uma parte essencialmente exponencial do problema.\n",
    "\n",
    "#### **2.3 Reduções a Outros Problemas NP-Completos**\n",
    "\n",
    "Por fim, o Problema da Mochila também pode ser reduzido a outros problemas conhecidos como NP-Completos, como o Problema do Conjunto de Cobertura e o Problema da Soma de Subconjunto. Isso significa que se encontrássemos uma maneira eficiente de resolver o Problema da Mochila, poderíamos aplicar essa solução a esses outros problemas com eficiência. No entanto, como esses problemas também são NP-Completos, a redução implica que o Problema da Mochila é igualmente difícil de resolver. \n",
    "\n",
    "#### **2.4 Complexidade de algumas soluções**\n",
    "\n",
    "O Problema da Mochila é conhecido como um problema NP-Completo devido à sua característica exponencial quando se busca a solução exata. Para encontrar a solução ótima (ou seja, a solução exata) de forma determinística, seria necessário explorar todas as possíveis combinações de itens, o que resulta em um tempo de execução exponencial de $O(2^n)$, onde n é o número de itens na mochila. Isso significa que, para um problema de mochila com 10 itens, o algoritmo exaustivo precisaria testar 1.024 combinações de itens. Para um problema de mochila com 20 itens, seriam necessários 1.048.576 testes de combinações de itens, e assim por diante. Portanto, encontrar a solução exata se torna impraticável à medida que o número de itens aumenta.\n",
    "\n",
    "No entanto, a introdução de uma máquina de Turing não determinística é uma abstração que permite explorar múltiplos ramos de decisão simultaneamente. Nesse contexto, a máquina de Turing não determinística pode tentar várias combinações de itens ao mesmo tempo, o que teoricamente leva a encontrar a solução ótima em tempo polinomial, por isso o Problema da Mochila é um problema NP-Completo.\n",
    "\n",
    "Para problemas práticos, a solução se encontra no uso de algoritmos heurísticos e aproximados, que podem fornecer soluções em tempo polinomial. Embora essas soluções não garantam a solução ótima, elas geralmente encontram uma solução que está muito próxima da solução ótima em tempo razoável. Alguns dos algoritmos heurísticos mais comuns para resolver o Problema da Mochila incluem:\n",
    "\n",
    "**Algoritmo de Branch and Bound:** Este algoritmo explora as soluções de maneira estruturada, reduzindo o espaço de busca por meio de limites superiores e inferiores. Isso permite um refinamento progressivo em direção à solução ótima. Para esse caso, a complexidade no pior cenário é de $O(2^n)$, pois precisaria gerar todos os estágios intermediários e todas as folhas.\n",
    "\n",
    "**Algoritmo Guloso:** A abordagem gulosa seleciona itens um de cada vez, começando pelos de maior valor, até que a capacidade da mochila seja atingida. Embora simples, pode fornecer soluções razoáveis em tempo curto, com uma complexidade de $O(n \\cdot \\log n)$.\n",
    "\n",
    "**Algoritmo de Programação Dinâmica:** Este método cria uma tabela que armazena o valor máximo que pode ser inserido na mochila para cada combinação de itens, guardando o resultado de sub-problemas para que não precisem ser calculados mais do que uma vez. A complexidade deste algoritmo é de $O(n \\cdot W)$, onde $n$ é o número de elementos e $W$ é a capacidade da mochila.\n",
    "\n",
    "Em resumo, a busca pela solução exata do Problema da Mochila em tempo polinomial é uma abstração teórica e normalmente não é realizada na prática. A solução prática para problemas de tamanho real envolve o uso de algoritmos heurísticos eficientes que fornecem soluções próximas à ótima em tempo polinomial, tornando o problema gerenciável e adequado para muitas aplicações do mundo real.\n",
    "\n"
   ]
  },
  {
   "cell_type": "markdown",
   "id": "273eb366-229e-43cb-a761-857ca150800e",
   "metadata": {},
   "source": [
    "### **3. O Papel da Computação Quântica na Resolução do Problema da Mochila**  <a class=\"anchor\" id=\"third-bullet\"></a>\n",
    "\n",
    "Assim, a computação quântica surge como uma área promissora na busca por soluções eficientes para problemas complexos, como o Problema da Mochila, podendo desempenhar um papel crucial na resolução deste problema intrinsecamente difícil.\n",
    "\n",
    "Isso porque, uma das características fundamentais da computação quântica é a capacidade de trabalhar com superposições quânticas. Enquanto na computação clássica estamos limitados a considerar uma única combinação de itens de cada vez, a computação quântica nos permite explorar várias combinações simultaneamente. Isso significa que podemos avaliar múltiplas soluções potenciais de uma só vez, o que pode levar a uma busca mais eficiente por uma solução ótima.\n",
    "\n",
    "Além disso, a computação quântica também oferece a possibilidade de criar oráculos quânticos eficientes para verificar se uma solução proposta atende aos requisitos de um problema de alta complexidade. Enquanto na computação clássica a verificação de soluções pode ser uma tarefa demorada, os algoritmos quânticos podem realizar essa verificação de forma mais rápida e eficiente, tornando todo o processo de resolução mais ágil.\n",
    "\n",
    "É por isso que já existem vários algoritmos quânticos que foram desenvolvidos especificamente para abordar problemas de otimização. Um exemplo notável é o algoritmo de Grover, que pode ser aplicado para realizar buscas eficientes no espaço de solução. Ao amplificar a amplitude das soluções desejadas, o algoritmo de Grover pode ajudar a encontrar a combinação ótima de itens de maneira mais rápida do que os métodos clássicos.\n",
    "\n",
    "No entanto, é importante notar que a computação quântica ainda está em estágios iniciais de desenvolvimento. Os computadores quânticos atuais têm limitações em termos de número de qubits, temperatura para manter o computador, erros quânticos, entre outras, que afetam a escalabilidade.\n"
   ]
  },
  {
   "cell_type": "markdown",
   "id": "bae6ab02-f011-4c31-9bb3-5cad46fbcd71",
   "metadata": {
    "tags": []
   },
   "source": [
    "### **4. Oráculo Proposto Inicialmente para o Problema da Mochila** <a class=\"anchor\" id=\"fourth-bullet\"></a>\n",
    "\n",
    "\n",
    "#### **4.1 Descrição da Solução Proposta**\n",
    "\n",
    "Como mencionado anteriormente, o Problema da Mochila é um desafio de otimização combinatória no qual, de um conjunto de itens disponíveis, é necessário selecionar um subconjunto desses itens para ser colocado em uma mochila com capacidade limitada. O objetivo é maximizar o valor total dos itens dentro da mochila, respeitando a restrição de peso.\n",
    "\n",
    "Para ilustrar esse problema, consideremos os seguintes valores de exemplo:\n",
    "\n",
    "- Valores dos itens: [10, 13, 18, 31, 7]\n",
    "- Pesos dos itens: [2, 4, 6, 7, 3]\n",
    "- Capacidade máxima da mochila: 10\n",
    "\n",
    "A solução ótima neste cenário seria adicionar o primeiro e o quarto itens à mochila, o que resultaria em um valor total de 41 e um peso total de 9.\n",
    "\n",
    "Antes de construir o oráculo, é essencial compreender o conceito de oráculo na computação quântica e como ele se aplica a esse problema em particular. Na computação quântica, um \"oráculo\" é uma abstração que se refere a uma caixa preta capaz de resolver um subproblema específico que faz parte de um problema maior.\n",
    "\n",
    "Nesse contexto, a transformação do Problema da Mochila em um problema de otimização quadrática é um passo fundamental. Essa transformação envolve representar o problema em termos de funções quadráticas, que são mais facilmente manipuladas por algoritmos quânticos.\n",
    "\n",
    "A escolha de transformar o problema em uma forma quadrática é estratégica, uma vez que o objetivo final é encontrar a combinação ideal de itens que maximize o valor total. Essa otimização pode ser expressa como uma função quadrática, na qual se busca maximizar ou minimizar uma função objetiva, sujeita a restrições quadráticas. Nesse caso, a função objetivo seria uma soma ponderada dos valores dos itens (o que se deseja maximizar), enquanto as restrições asseguram que o peso total não exceda o limite estabelecido.\n",
    "\n",
    "Feito isso, o próximo passo para resolver um problema de otimização quadrática em um computador quântico, é utilizar algoritmos quânticos, como o QAOA (Quantum Approximate Optimization Algorithm), que são projetados especificamente para otimizar funções quadráticas. Nesse contexto, o oráculo representa a formulação do Problema da Mochila na forma de uma função quadrática e o algoritmo quântico opera com essa função quadrática como uma ferramenta para encontrar a solução que otimiza a função objetivo.\n",
    "\n",
    "Assim, esse algoritmo quântico consulta essa função quadrática para determinar como ajustar as variáveis de decisão (por exemplo, quais itens incluir na mochila) de modo a maximizar o valor total.\n",
    "\n",
    "\n",
    "#### **4.2 Implementação do Oráculo: Transformar em um Problema de Otimização Quadrático**\n"
   ]
  },
  {
   "cell_type": "code",
   "execution_count": 1,
   "id": "504b91c1-1092-4f26-939f-8238b1a94470",
   "metadata": {
    "tags": []
   },
   "outputs": [],
   "source": [
    "# Importing standard Qiskit libraries\n",
    "from qiskit import QuantumCircuit, transpile, Aer, IBMQ\n",
    "from qiskit.tools.jupyter import *\n",
    "from qiskit.visualization import *\n",
    "from ibm_quantum_widgets import *\n",
    "from qiskit_optimization.applications import Knapsack\n",
    "from qiskit_optimization import QuadraticProgram\n",
    "from qiskit_optimization.algorithms import MinimumEigenOptimizer\n",
    "from qiskit.utils import algorithm_globals, QuantumInstance\n",
    "from qiskit.algorithms.minimum_eigensolvers import NumPyMinimumEigensolver, QAOA\n",
    "from qiskit.providers.ibmq import least_busy\n",
    "from docplex.mp.model import Model\n",
    "from qiskit_optimization.translators import from_docplex_mp\n",
    "import numpy as np\n",
    "\n",
    "# qiskit-ibmq-provider has been deprecated.\n",
    "# Please see the Migration Guides in https://ibm.biz/provider_migration_guide for more detail.\n",
    "from qiskit_ibm_runtime import QiskitRuntimeService, Sampler, Estimator, Session, Options\n",
    "\n",
    "# Loading your IBM Quantum account(s)\n",
    "service = QiskitRuntimeService(channel=\"ibm_quantum\")\n",
    "\n",
    "# Invoke a primitive. For more details see https://qiskit.org/documentation/partners/qiskit_ibm_runtime/tutorials.html\n",
    "# result = Sampler(\"ibmq_qasm_simulator\").run(circuits).result()"
   ]
  },
  {
   "cell_type": "code",
   "execution_count": 2,
   "id": "faf8f442-7a25-440a-ba63-45b979cae5b9",
   "metadata": {
    "tags": []
   },
   "outputs": [
    {
     "name": "stdout",
     "output_type": "stream",
     "text": [
      "maximize 10*x_0 + 13*x_1 + 18*x_2 + 31*x_3 + 7*x_4 (5 variables, 1 constraints, 'Knapsack')\n"
     ]
    }
   ],
   "source": [
    "def knapsack_quadratic_program(values, weights, max_weight):\n",
    "    # Instância de Model do Docplex para definição do problema\n",
    "    mod = Model(name=\"Knapsack\")\n",
    "\n",
    "    num_items = len(values)\n",
    "\n",
    "    # Criação de variáveis binárias para representar a escolha de cada item\n",
    "    x = []\n",
    "    for i in range(num_items):\n",
    "        x_i = mod.binary_var(name=f\"x_{i}\")\n",
    "        #print(x_i)\n",
    "        x.append(x_i)\n",
    "\n",
    "    # Definição da função objetivo\n",
    "    mod.maximize(mod.sum(values[i] * x[i] for i in range(num_items)))\n",
    "\n",
    "    # Adição da restrição de que o peso total não pode exceder a capacidade máxima\n",
    "    mod.add(mod.sum(weights[i] * x[i] for i in range(num_items)) <= max_weight)\n",
    "\n",
    "    op = from_docplex_mp(mod)\n",
    "\n",
    "    return op\n",
    "\n",
    "def interpret(result):\n",
    "    result_dic = result.variables_dict\n",
    "    result_list = []\n",
    "    index = 0\n",
    "    for value in result_dic.values():\n",
    "        if value == 1:\n",
    "            result_list.append(index)\n",
    "        index += 1\n",
    "    return result_list\n",
    "\n",
    "# Dados do problema da mochila\n",
    "values = [10, 13, 18, 31, 7]\n",
    "weights = [2, 4, 6, 7, 3]\n",
    "max_weight = 10\n",
    "\n",
    "qp = knapsack_quadratic_program(values, weights, max_weight)\n",
    "print(qp)\n"
   ]
  },
  {
   "cell_type": "markdown",
   "id": "a57742f3-66d0-45e9-bf9d-0d846db884cf",
   "metadata": {},
   "source": [
    "A seguir será explicada a lógica da construção de código da função `knapsack_quadratic_program`:\n",
    "\n",
    "1. **Criando um modelo**:\n",
    "   Primeiro foi utilizada a classe `Model` da biblioteca Docplex para criar uma instância de um modelo de programação matemática. Sendo o Docplex um framework para a modelagem e resolução de problemas de otimização.\n",
    "\n",
    "2. **Definição dos Dados**:\n",
    "   Depois, o número de itens no problema foi determinado com base no comprimento da lista `values` (que possui o mesmo tamanho que a lista `weights`). Isso é importante para controlar o número de variáveis binárias que serão criadas.\n",
    "\n",
    "3. **Criação de Variáveis Binárias**:\n",
    "   Com o número de dados definidos: \n",
    "   - Foi criada uma lista vazia chamada `x` para armazenar as variáveis binárias.\n",
    "   - Por meio de um loop, foi criada uma variável binária `x_i` para cada item. O nome da variável é definido como \"x_i\", onde \"i\" é o índice do item.\n",
    "   - Por fim, cada variável binária foi adicionada à lista `x`. Essas variáveis binárias representarão a escolha de cada item, ou seja, se o item i é escolhido (valor 1) ou não (valor 0).\n",
    "\n",
    "   Assim, suponhamos que temos 3 itens (0, 1 e 3), então após esse passo, teríamos as variáveis binárias `x_0`, `x_1` e `x_2`.\n",
    "\n",
    "4. **Definição da Função Objetivo**:\n",
    "   Para definir a função objetivo do problema, foi usado o `mod.maximize()` . Sendo assim, a função objetivo irá maximizar o valor total dos itens escolhidos na mochila. Para isso, somamos os produtos de `values[i]` (valor do item) e `x[i]` (variável binária correspondente) para todos os itens.\n",
    "\n",
    "\n",
    "5. **Adição de Restrições**:\n",
    "   Além disso, uma restrição foi adicionada para garantir que o peso total dos itens escolhidos não exceda a capacidade máxima da mochila (`max_weight`). A restrição é uma soma dos produtos dos pesos dos itens e das variáveis binárias correspondentes. Ela é adicionada ao modelo com `mod.add()`.\n",
    "\n",
    "\n",
    "6. **Conversão para QuadraticProgram**:\n",
    "   Por fim, o modelo criado no Docplex é convertido para um objeto `QuadraticProgram` usando a função `from_docplex_mp`. Isso permite que sejam usadas as funcionalidades do Qiskit para resolver o problema de otimização quadrática.\n",
    "\n",
    "O objeto `QuadraticProgram`, que representa o problema de otimização quadrática, contém todas as informações necessárias, incluindo variáveis, função objetivo e restrições. Uma vez que ele é criado, pode então ser retornado pela função `knapsack_quadratic_program`\n",
    "\n"
   ]
  },
  {
   "cell_type": "markdown",
   "id": "f1a3b3fa-1436-4a50-bf8c-c0b2e3552fb2",
   "metadata": {},
   "source": [
    "Como foi explicado anteriormente, a função `knapsack_quadratic_program` apenas monta a função quadrática do Problema da Mochila, tendo como base seus itens, seus pesos e valores e a restrição de capacidade de peso da mochila.  Uma vez que essa função é montada, ela deve ser então aplicada em um algoritmo de otimização que retornará o resultado que possui as variáveis binárias que representam quais itens da mochila foram selecionados (aqueles que possuem valor como 1). Assim, a função `interpret` foi criada para interpretar esse resultado e saber qual o valor foi atingido com os itens selecionados para a mochila. Abaixo sua lógica será explicada detalhadamente:\n",
    "\n",
    "1. **Processamento do Resultado da Otimização**:\n",
    "   O objetivo da função `interpret` é processar o resultado da otimização, que é um conjunto de variáveis binárias com valores 0 ou 1, indicando quais itens foram escolhidos e quais não foram.\n",
    "\n",
    "2. **Variáveis de Saída**:\n",
    "   - `result_dic`: A função recebe o resultado da otimização como entrada, que é uma estrutura de dados (dicionário) onde as chaves são os nomes das variáveis e os valores são os valores atribuídos a essas variáveis na solução da otimização.\n",
    "\n",
    "   - `result_list`: Esta é a lista que a função vai retornar, contendo os índices dos itens que foram escolhidos (ou seja, aqueles com valor 1 nas variáveis binárias).\n",
    "\n",
    "3. **Processamento do Resultado**:\n",
    "   A função `interpret` realiza o seguinte processamento:\n",
    "   - Ela inicia uma variável `index` como 0, que será usada para acompanhar o índice dos itens.\n",
    "   - Em seguida, itera através do dicionário `result_dic`. Para cada valor (0 ou 1) no dicionário:\n",
    "     - Se o valor for igual a 1, isso significa que o item correspondente foi escolhido. Nesse caso, o índice do item (representado por `index`) é adicionado à lista `result_list`.\n",
    "     - O índice é então incrementado para que possamos continuar rastreando os índices dos itens.\n",
    "\n",
    "4. **Retorno da Lista de Itens Escolhidos**:\n",
    "   Após o processamento, a função retorna a lista `result_list`, que contém os índices dos itens que foram escolhidos na solução da otimização. Esses índices podem ser usados para identificar quais itens estão na mochila com base nos dados originais.\n",
    "\n",
    "Dessa forma, a função `interpret` permite extrair os itens escolhidos da solução da otimização e fornece uma representação mais compreensível do resultado para o usuário."
   ]
  },
  {
   "cell_type": "markdown",
   "id": "c0b32ca1-d8ad-440d-8790-31a03eb2c95a",
   "metadata": {},
   "source": [
    "#### **4.3 Implementação do Algoritmo de Otimização: QAOA + COBYLA**\n",
    "\n",
    "Como mencionado anteriormente, a busca por soluções ótimas para problemas NP-Completo é uma tarefa desafiadora. Uma abordagem para lidar com tais problemas é o uso de algoritmos de aproximação, que buscam encontrar soluções que se aproximem do ótimo, ainda que não sejam necessariamente as soluções ideais. No contexto dessa busca por soluções de qualidade, surgiram os algoritmos de aproximação quântica, conhecidos como QAA (Quantum Approximation Algorithms). Esses algoritmos têm como foco a utilização dos recursos quânticos para obter soluções de alta qualidade, em vez de simplesmente acelerar o tempo de execução, superando, assim, as limitações associadas aos ganhos de velocidade na computação quântica.\n",
    "\n",
    "E como qualquer algoritmo quântico, parte-se de uma sequência de $n$ qubits que serão manipulados com portas quânticas para depois obter o estado final que será medido. Esse raciocínio pode ser representado melhor na imagem abaixo:\n",
    "\n",
    "<div>\n",
    "<img src=\"quantum_algorithms.png\" width=\"550\"/>\n",
    "</div>\n",
    "\n",
    "Imagem retirada de: https://www.osti.gov/servlets/purl/1526360.\n",
    "\n",
    "\n",
    "Um dos algoritmos mais conhecidos nesse campo de otimização quântica é o QAOA (Quantum Approximate Optimization Algorithm), sendo conhecido por encontrar soluções aproximadas para problemas de otimização combinatorial, como é o caso do Problema da Mochila. Os passos desse algoritmo, de maneira simplicada, podem ser explicados da seguinte maneira:\n",
    "\n",
    "O algoritmo Quantum Approximate Optimization Algorithm (QAOA) é uma técnica que utiliza a computação quântica para resolver problemas de otimização. Aqui estão os passos simplificados desse algoritmo:\n",
    "\n",
    "1. **Definir Hamiltoniano de Custo (HC)**: O primeiro passo é criar um Hamiltoniano (um conceito da física quântica) que representa o problema de otimização. Este Hamiltoniano é chamado de Hamiltoniano de Custo (HC) e é projetado de modo que seu estado fundamental (estado de menor energia) represente a solução ideal do problema.\n",
    "\n",
    "2. **Definir Hamiltoniano de Mistura (HM)**: Outro Hamiltoniano, chamado Hamiltoniano de Mistura (HM), é criado. Ele serve para \"misturar\" os estados quânticos, tornando-os mais exploratórios.\n",
    "\n",
    "3. **Construir Camadas de Circuito**: São construídas camadas de circuito quântico. Uma camada é composta por duas partes: a primeira aplica uma operação relacionada ao HC com um ângulo chamado $γ$, e a segunda aplica uma operação relacionada ao HM com um ângulo chamado $α$. Essas camadas são repetidas várias vezes.\n",
    "\n",
    "4. **Preparar um Estado Inicial**: Começa-se com um estado inicial e aplica-se repetidamente as camadas de HC e HM.\n",
    "\n",
    "5. **Otimizar Parâmetros**: Usam-se técnicas clássicas para encontrar os melhores ângulos $γ$ e $α$ que minimizam a energia do sistema, ou seja, levam ao estado de menor energia, que é a solução.\n",
    "\n",
    "6. **Realizar Medidas**: Por fim, realizam-se medidas no estado final do circuito otimizado. As informações obtidas a partir dessas medidas dão uma solução aproximada para o problema de otimização.\n",
    "\n",
    "Em resumo, o QAOA começa com a definição de Hamiltonianos que representam o problema, constrói camadas de circuito usando esses Hamiltonianos, otimiza os ângulos dessas camadas para encontrar uma solução de baixa energia e, por fim, faz medições para obter uma solução aproximada para o problema de otimização. Esse circuito que possui essas camadas de Hamiltonianos pode ser descrito matematicamente da seguinte forma:\n",
    "\n",
    "<div>\n",
    "<img src=\"circuit_qaoa.png\" width=\"400\"/>\n",
    "</div>\n",
    "\n",
    "Imagem retirada de: https://pennylane.ai/qml/demos/tutorial_qaoa_intro.\n",
    "\n",
    "\n",
    "Mas para conectar o Problema da Mochila ao QAOA, será utilizada a classe do Qiskit chamada `MinimumEigenOptimizer`, que atua como uma interface entre o problema de otimização e os algoritmos de otimização quântica. A função principal do `MinimumEigenOptimizer` é permitir que seja inserido um solucionador quântico capaz de encontrar o mínimo da função de energia (ou Hamiltoniana) associada ao problema.\n",
    "\n",
    "Para o QAOA, essa função de energia é usada para representar a função objetivo do Problema da Mochila, ou seja, o valor total dos itens selecionados. Ela é expressa na forma de uma matriz associada ao problema, que é criada com base na formulação quadrática do problema. Em outras palavras, o `MinimumEigenOptimizer` traduz o Problema da Mochila em uma representação matricial compatível com o QAOA.\n",
    "\n",
    "O QAOA, por sua vez, é utilizado como o resolvedor da otimização. Sua função é encontrar uma solução aproximada para o problema, maximizando o valor total dos itens dentro das restrições de peso.\n",
    "\n",
    "Além disso, para aperfeiçoar o desempenho do QAOA na resolução do Problema da Mochila, foi empregado o otimizador COBYLA. Este otimizador clássico é utilizado para ajustar os parâmetros do QAOA. No contexto do QAOA, os parâmetros, denotados como $γ$ e $α$, são essenciais para determinar como as operações quânticas de camada (HC e HM) afetam a solução do problema. Esses parâmetros precisam ser otimizados para encontrar a melhor solução aproximada, ou seja, a combinação ideal de itens a serem colocados na mochila.\n",
    "\n",
    "O COBYLA é uma escolha comum para otimização de parâmetros em algoritmos de otimização quântica, pois é especialmente adequado para problemas de otimização não linear e aqueles com restrições, como é o caso do Problema da Mochila, onde o peso total não deve exceder a capacidade máxima da mochila. Assim, o otimizador COBYLA ajusta os valores de $γ$ e $α$ de forma iterativa, buscando encontrar a melhor solução ou uma aproximação aceitável que maximize o valor total dos itens selecionados.\n",
    "\n",
    "\n"
   ]
  },
  {
   "cell_type": "markdown",
   "id": "ad8f3446-dda0-438f-9aba-a41803ab435e",
   "metadata": {},
   "source": [
    "O código que implementa essa solução pode ser visto abaixo:"
   ]
  },
  {
   "cell_type": "code",
   "execution_count": 7,
   "id": "1b08e999-a558-4617-9750-c43b060740a5",
   "metadata": {
    "tags": []
   },
   "outputs": [
    {
     "name": "stdout",
     "output_type": "stream",
     "text": [
      "result:\n",
      " objective function value: 41.0\n",
      "variable values: x_0=1.0, x_1=0.0, x_2=0.0, x_3=1.0, x_4=0.0\n",
      "status: SUCCESS\n",
      "<class 'qiskit_optimization.algorithms.minimum_eigen_optimizer.MinimumEigenOptimizationResult'>\n",
      "\n",
      " index of the chosen items: [0, 3]\n"
     ]
    }
   ],
   "source": [
    "# QAOA\n",
    "from qiskit.primitives import Sampler\n",
    "from qiskit_aer.primitives import Sampler as AerSampler\n",
    "from qiskit.algorithms.optimizers import COBYLA\n",
    "\n",
    "seed = 123\n",
    "algorithm_globals.random_seed = seed\n",
    "sampler = Sampler()\n",
    "aer_sampler = AerSampler(run_options={\"shots\": 1000, \"seed\": seed})\n",
    "\n",
    "optimizer = COBYLA()\n",
    "qaoa = QAOA(aer_sampler, optimizer, reps=2)\n",
    "meo = MinimumEigenOptimizer(min_eigen_solver= qaoa)\n",
    "result = meo.solve(qp)\n",
    "                   \n",
    "print('result:\\n', result.prettyprint())\n",
    "print(type(result))\n",
    "print('\\n index of the chosen items:', interpret(result)) "
   ]
  },
  {
   "cell_type": "markdown",
   "id": "95ada06b-0949-43ab-8433-a8a9d1fb552a",
   "metadata": {
    "tags": []
   },
   "source": [
    "A seguir será explicada a lógica da implementação do QAOA:\n",
    "\n",
    "1. **Configuração dos Parâmetros**:\n",
    "   -  Uma semente é definida para a geração de números aleatórios. Isso garante que os resultados sejam reproduzíveis.\n",
    "\n",
    "2. **Configuração do Sampler Quântico**:\n",
    "   - Um sampler quântico é criado, sendo responsável por simular a execução de circuitos quânticos em um simulador quântico.\n",
    "   - Ele é configurado para executar os circuitos quânticos com 1000 *shots* e usar a semente de números aleatórios definida anteriormente.\n",
    "\n",
    "3. **Configuração do Otimizador Clássico COBYLA**:\n",
    "   - O otimizador clássico COBYLA é definido, para depois ser usado a fim de ajustar os parâmetros do algoritmo QAOA. \n",
    "\n",
    "4. **Configuração do Algoritmo QAOA**:\n",
    "   - O algoritmo QAOA é configurado com as seguintes opções:\n",
    "     - `aer_sampler`: O sampler quântico que será usado para executar os circuitos quânticos do QAOA.\n",
    "     - `optimizer`: O otimizador clássico COBYLA, que será usado para ajustar os parâmetros do QAOA.\n",
    "     - `reps=2`: Define o número de repetições (ou camadas) do QAOA. O valor 2 indica que o algoritmo terá duas camadas.\n",
    "\n",
    "5. **Configuração do MinimumEigenOptimizer (meo)**:\n",
    "   - O MinimumEigenOptimizer é configurado tendo o QAOA como o resolvedor da otimização, permitindo encontrar uma solução aproximada para o Problema da Mochila usando um algoritmo quântico.\n",
    "\n",
    "6. **Resolução do Problema**:\n",
    "   - Por fim, o problema de otimização quadrática (representado pelo objeto `qp`) é resolvido utilizando o MinimumEigenOptimizer e, por sua vez, o QAOA e o COBYLA.\n",
    "\n",
    "E, como visto na implementação, para o problema definido com os seguintes parâmetros:\n",
    "\n",
    "- Valores dos itens: [10, 13, 18, 31, 7]\n",
    "- Pesos dos itens: [2, 4, 6, 7, 3]\n",
    "- Capacidade máxima da mochila: 10\n",
    "\n",
    "A solução encontrada retorna um valor de 41, incluindo na mochila os itens de índice 0 e 3, conforme esperado."
   ]
  },
  {
   "cell_type": "markdown",
   "id": "89e59501-d06c-406b-9b5c-17c119ec463c",
   "metadata": {},
   "source": [
    "### **5. Testes Feitos com a Solução Proposta** <a class=\"anchor\" id=\"fifth-bullet\"></a>\n",
    "\n",
    "Para testar essa solução, foram feitos alguns testes, descritos a seguir:\n"
   ]
  },
  {
   "cell_type": "markdown",
   "id": "8dded319-b3bf-435e-ab20-999a09b512fb",
   "metadata": {},
   "source": [
    "1. **Testar com Dados Adicionais**:\n",
    "\n",
    "Foram realizadas modificações nos valores e pesos dos itens, juntamente com ajustes na capacidade máxima da mochila.\n",
    "O código foi então executado com esses novos conjuntos de dados, e as soluções obtidas foram avaliadas quanto à adequação em cada caso. No caso, todos os resultados obtidos foram coerentes com as entradas propostas."
   ]
  },
  {
   "cell_type": "code",
   "execution_count": 4,
   "id": "0e2a4999-a93c-4f80-bae4-6a11a6f560a1",
   "metadata": {
    "tags": []
   },
   "outputs": [
    {
     "name": "stdout",
     "output_type": "stream",
     "text": [
      "result:\n",
      " objective function value: 41.0\n",
      "variable values: x_0=1.0, x_1=0.0, x_2=0.0, x_3=1.0, x_4=0.0\n",
      "status: SUCCESS\n",
      "<class 'qiskit_optimization.algorithms.minimum_eigen_optimizer.MinimumEigenOptimizationResult'>\n",
      "\n",
      " index of the chosen items: [0, 3]\n",
      "result:\n",
      " objective function value: 32.0\n",
      "variable values: x_0=1.0, x_1=0.0, x_2=0.0, x_3=1.0, x_4=1.0\n",
      "status: SUCCESS\n",
      "<class 'qiskit_optimization.algorithms.minimum_eigen_optimizer.MinimumEigenOptimizationResult'>\n",
      "\n",
      " index of the chosen items: [0, 3, 4]\n",
      "result:\n",
      " objective function value: 20.0\n",
      "variable values: x_0=0.0, x_1=0.0, x_2=1.0, x_3=1.0, x_4=1.0\n",
      "status: SUCCESS\n",
      "<class 'qiskit_optimization.algorithms.minimum_eigen_optimizer.MinimumEigenOptimizationResult'>\n",
      "\n",
      " index of the chosen items: [2, 3, 4]\n",
      "result:\n",
      " objective function value: 53.0\n",
      "variable values: x_0=1.0, x_1=0.0, x_2=1.0, x_3=1.0, x_4=0.0\n",
      "status: SUCCESS\n",
      "<class 'qiskit_optimization.algorithms.minimum_eigen_optimizer.MinimumEigenOptimizationResult'>\n",
      "\n",
      " index of the chosen items: [0, 2, 3]\n",
      "result:\n",
      " objective function value: 44.0\n",
      "variable values: x_0=1.0, x_1=0.0, x_2=1.0, x_3=1.0, x_4=1.0\n",
      "status: SUCCESS\n",
      "<class 'qiskit_optimization.algorithms.minimum_eigen_optimizer.MinimumEigenOptimizationResult'>\n",
      "\n",
      " index of the chosen items: [0, 2, 3, 4]\n"
     ]
    }
   ],
   "source": [
    "# QAOA\n",
    "from qiskit.primitives import Sampler\n",
    "from qiskit_aer.primitives import Sampler as AerSampler\n",
    "from qiskit.algorithms.optimizers import COBYLA\n",
    "\n",
    "def knapsack_solver(values, weights, max_weight):\n",
    "    new_qp = knapsack_quadratic_program(values, weights, max_weight)\n",
    "    seed = 123\n",
    "    algorithm_globals.random_seed = seed\n",
    "    sampler = Sampler()\n",
    "    aer_sampler = AerSampler(run_options={\"shots\": 1000, \"seed\": seed})\n",
    "\n",
    "    optimizer = COBYLA()\n",
    "    qaoa = QAOA(aer_sampler, optimizer, reps=2)\n",
    "    meo = MinimumEigenOptimizer(min_eigen_solver= qaoa)\n",
    "    result = meo.solve(new_qp)\n",
    "\n",
    "    print('result:\\n', result.prettyprint())\n",
    "    print(type(result))\n",
    "    print('\\n index of the chosen items:', interpret(result)) \n",
    "\n",
    "# Define os casos de entrada\n",
    "test_cases = [\n",
    "    ([10, 13, 18, 31, 7], [2, 4, 6, 7, 3], 10),  # Caso 1. \n",
    "    ([5, 12, 15, 7, 20], [2, 5, 8, 3, 10], 15),  # Caso 2. \n",
    "    ([8, 4, 5, 3, 12], [3, 2, 2, 1, 7], 10),  # Caso 3. \n",
    "    ([20, 10, 15, 18, 5], [7, 4, 6, 2, 3], 15),  # Caso 4. \n",
    "    ([12, 15, 20, 7, 5], [5, 6, 8, 3, 2], 18)  # Caso 5. \n",
    "]\n",
    "\n",
    "# Executa os testes e verifica os resultados\n",
    "for i, (values, weights, max_weight) in enumerate(test_cases, start=1):\n",
    "    knapsack_solver(values, weights, max_weight)\n"
   ]
  },
  {
   "cell_type": "markdown",
   "id": "4fdef2f3-8e62-48bd-b70e-f92ae7645263",
   "metadata": {},
   "source": [
    "2. **Experimentar com Diferentes Valores de `reps`**:\n",
    "\n",
    "No experimento, foi feita a alteração do valor do parâmetro `reps` no QAOA para diferentes números de etapas. Observou-se como a qualidade da solução e o tempo de execução variaram com os diferentes valores de `reps`."
   ]
  },
  {
   "cell_type": "code",
   "execution_count": 5,
   "id": "29c2fabb-bbba-416d-824f-dd7e839a314b",
   "metadata": {
    "tags": []
   },
   "outputs": [
    {
     "name": "stdout",
     "output_type": "stream",
     "text": [
      "Resultados com reps=1:\n",
      " objective function value: 41.0\n",
      "variable values: x_0=1.0, x_1=0.0, x_2=0.0, x_3=1.0, x_4=0.0\n",
      "status: SUCCESS\n",
      "\n",
      " index of the chosen items: [0, 3]\n",
      "\n",
      " execution time (s):\n",
      " 5.070441484451294\n",
      "------------------------------------------------------------\n",
      "Resultados com reps=2:\n",
      " objective function value: 41.0\n",
      "variable values: x_0=1.0, x_1=0.0, x_2=0.0, x_3=1.0, x_4=0.0\n",
      "status: SUCCESS\n",
      "\n",
      " index of the chosen items: [0, 3]\n",
      "\n",
      " execution time (s):\n",
      " 7.032001972198486\n",
      "------------------------------------------------------------\n",
      "Resultados com reps=3:\n",
      " objective function value: 41.0\n",
      "variable values: x_0=1.0, x_1=0.0, x_2=0.0, x_3=1.0, x_4=0.0\n",
      "status: SUCCESS\n",
      "\n",
      " index of the chosen items: [0, 3]\n",
      "\n",
      " execution time (s):\n",
      " 10.287288427352905\n",
      "------------------------------------------------------------\n",
      "Resultados com reps=4:\n",
      " objective function value: 41.0\n",
      "variable values: x_0=1.0, x_1=0.0, x_2=0.0, x_3=1.0, x_4=0.0\n",
      "status: SUCCESS\n",
      "\n",
      " index of the chosen items: [0, 3]\n",
      "\n",
      " execution time (s):\n",
      " 14.002259969711304\n",
      "------------------------------------------------------------\n"
     ]
    }
   ],
   "source": [
    "# Teste com diferentes valores de `reps`\n",
    "import time\n",
    "\n",
    "reps_values = [1, 2, 3, 4]\n",
    "for reps in reps_values:\n",
    "    start_time = time.time()\n",
    "    qaoa = QAOA(aer_sampler, optimizer, reps=reps)\n",
    "    meo = MinimumEigenOptimizer(min_eigen_solver= qaoa)\n",
    "    result = meo.solve(qp)\n",
    "    end_time = time.time()\n",
    "    execution_time = end_time - start_time\n",
    "    print(f'Resultados com reps={reps}:\\n', result.prettyprint())\n",
    "    print('\\n index of the chosen items:', interpret(result))\n",
    "    print('\\n execution time (s):\\n', execution_time)\n",
    "    print('------------------------------------------------------------')"
   ]
  },
  {
   "cell_type": "markdown",
   "id": "1e716c6e-66de-431e-8681-e3c197461f74",
   "metadata": {},
   "source": [
    "3. **Testar com Diferentes Algoritmos de Otimização**:\n",
    "\n",
    "Para testar com diferentes algoritmos de otimização, foi necessário utilizar diversas opções de otimizadores disponíveis no Qiskit, tais como o SLSQP, L-BFGS-B, entre outros. Os resultados foram comparados para avaliar o desempenho e as soluções geradas pelos diversos otimizadores."
   ]
  },
  {
   "cell_type": "code",
   "execution_count": 6,
   "id": "a6a5dd94-0a42-4dde-b56b-add6e81b50f1",
   "metadata": {
    "tags": []
   },
   "outputs": [
    {
     "data": {
      "image/png": "[encoded data removed]",
      "text/plain": [
       "<Figure size 640x480 with 1 Axes>"
      ]
     },
     "metadata": {},
     "output_type": "display_data"
    },
    {
     "data": {
      "image/png": "[encoded data removed]",
      "text/plain": [
       "<Figure size 640x480 with 1 Axes>"
      ]
     },
     "metadata": {},
     "output_type": "display_data"
    }
   ],
   "source": [
    "from qiskit.algorithms.optimizers import SLSQP, L_BFGS_B, CG, SPSA, COBYLA\n",
    "import time\n",
    "import matplotlib.pyplot as plt\n",
    "\n",
    "# Lista de otimizadores\n",
    "optimizer_names = ['COBYLA','SLSQP', 'L-BFGS-B', 'CG', 'SPSA']\n",
    "optimizers = [COBYLA(), SLSQP(), L_BFGS_B(), CG(), SPSA()]\n",
    "\n",
    "# Listas para armazenar os tempos de execução e os valores ótimos\n",
    "execution_times = []\n",
    "optimal_values = []\n",
    "\n",
    "for optimizer in optimizers:\n",
    "    start_time = time.time()\n",
    "    \n",
    "    qaoa_optimizer = QAOA(aer_sampler, optimizer, reps=2)\n",
    "    meo_optimizer = MinimumEigenOptimizer(min_eigen_solver=qaoa_optimizer)\n",
    "    result = meo_optimizer.solve(qp)\n",
    "    \n",
    "    end_time = time.time()\n",
    "    execution_time = end_time - start_time\n",
    "    \n",
    "    execution_times.append(execution_time)\n",
    "    optimal_values.append(result.fval)\n",
    "\n",
    "# Gráfico de barras para comparar o tempo de execução\n",
    "plt.bar(optimizer_names, execution_times)\n",
    "plt.xlabel('Otimizadores')\n",
    "plt.ylabel('Tempo de Execução (s)')\n",
    "plt.title('Tempo de Execução dos Otimizadores')\n",
    "plt.show()\n",
    "\n",
    "# Gráfico de barras para comparar os valores ótimos\n",
    "plt.bar(optimizer_names, optimal_values)\n",
    "plt.xlabel('Otimizadores')\n",
    "plt.ylabel('Valor Ótimo')\n",
    "plt.title('Valores Ótimos dos Otimizadores')\n",
    "plt.show()\n"
   ]
  },
  {
   "cell_type": "markdown",
   "id": "2cbd0bfa-fefc-46b5-b199-8afcc6aae334",
   "metadata": {},
   "source": [
    "4. **Comparação com Outros Algoritmos:**\n",
    "\n",
    "Neste exemplo, vamos comparar o desempenho do QAOA com um algoritmo de programação linear inteira (ILP) usando a biblioteca PuLP. Para isso, é necessário instalar a biblioteca PuLP primeiro:\n",
    "\n",
    "```bash\n",
    "pip install pulp\n",
    "```\n",
    "\n",
    "Aqui está o código para a comparação:"
   ]
  },
  {
   "cell_type": "code",
   "execution_count": 8,
   "id": "40af42ff-15fd-4715-aa74-b56301168984",
   "metadata": {
    "tags": []
   },
   "outputs": [
    {
     "name": "stdout",
     "output_type": "stream",
     "text": [
      "Collecting pulp\n",
      "  Using cached PuLP-2.7.0-py3-none-any.whl (14.3 MB)\n",
      "Installing collected packages: pulp\n",
      "Successfully installed pulp-2.7.0\n",
      "\n",
      "\u001b[1m[\u001b[0m\u001b[34;49mnotice\u001b[0m\u001b[1;39;49m]\u001b[0m\u001b[39;49m A new release of pip available: \u001b[0m\u001b[31;49m23.1.1\u001b[0m\u001b[39;49m -> \u001b[0m\u001b[32;49m23.3.1\u001b[0m\n",
      "\u001b[1m[\u001b[0m\u001b[34;49mnotice\u001b[0m\u001b[1;39;49m]\u001b[0m\u001b[39;49m To update, run: \u001b[0m\u001b[32;49mpip install --upgrade pip\u001b[0m\n"
     ]
    }
   ],
   "source": [
    "!pip install pulp"
   ]
  },
  {
   "cell_type": "code",
   "execution_count": 9,
   "id": "5c25e4e8-e23d-4d50-a323-9fbfd704ccc7",
   "metadata": {
    "tags": []
   },
   "outputs": [
    {
     "name": "stdout",
     "output_type": "stream",
     "text": [
      "Welcome to the CBC MILP Solver \n",
      "Version: 2.10.3 \n",
      "Build Date: Dec 15 2019 \n",
      "\n",
      "command line - /opt/conda/lib/python3.10/site-packages/pulp/solverdir/cbc/linux/64/cbc /tmp/262f8982b08e4431aa2f4690067084ca-pulp.mps max timeMode elapsed branch printingOptions all solution /tmp/262f8982b08e4431aa2f4690067084ca-pulp.sol (default strategy 1)\n",
      "At line 2 NAME          MODEL\n",
      "At line 3 ROWS\n",
      "At line 6 COLUMNS\n",
      "At line 27 RHS\n",
      "At line 29 BOUNDS\n",
      "At line 35 ENDATA\n",
      "Problem MODEL has 1 rows, 5 columns and 5 elements\n",
      "Coin0008I MODEL read with 0 errors\n",
      "Option for timeMode changed from cpu to elapsed\n",
      "Continuous objective value is 44.8 - 0.00 seconds\n",
      "Cgl0004I processed model has 1 rows, 5 columns (5 integer (5 of which binary)) and 5 elements\n",
      "Cutoff increment increased from 1e-05 to 0.9999\n",
      "Cbc0038I Initial state - 1 integers unsatisfied sum - 0.4\n",
      "Cbc0038I Solution found of -40\n",
      "Cbc0038I Before mini branch and bound, 4 integers at bound fixed and 0 continuous\n",
      "Cbc0038I Full problem 1 rows 5 columns, reduced to 0 rows 0 columns\n",
      "Cbc0038I Mini branch and bound did not improve solution (0.00 seconds)\n",
      "Cbc0038I Round again with cutoff of -41.3799\n",
      "Cbc0038I Pass   1: suminf.    0.11499 (1) obj. -41.3799 iterations 1\n",
      "Cbc0038I Pass   2: suminf.    0.37500 (1) obj. -44.5 iterations 2\n",
      "Cbc0038I Pass   3: suminf.    0.46900 (1) obj. -41.3799 iterations 1\n",
      "Cbc0038I Pass   4: suminf.    0.46900 (1) obj. -41.3799 iterations 0\n",
      "Cbc0038I Pass   5: suminf.    0.46834 (1) obj. -41.3799 iterations 2\n",
      "Cbc0038I Pass   6: suminf.    0.12500 (1) obj. -44.5 iterations 2\n",
      "Cbc0038I Pass   7: suminf.    0.28100 (1) obj. -41.3799 iterations 1\n",
      "Cbc0038I Pass   8: suminf.    0.36900 (1) obj. -41.3799 iterations 1\n",
      "Cbc0038I Pass   9: suminf.    0.50000 (1) obj. -44 iterations 1\n",
      "Cbc0038I Pass  10: suminf.    0.36900 (1) obj. -41.3799 iterations 1\n",
      "Cbc0038I Pass  11: suminf.    0.36900 (1) obj. -41.3799 iterations 0\n",
      "Cbc0038I Pass  12: suminf.    0.28100 (1) obj. -41.3799 iterations 1\n",
      "Cbc0038I Pass  13: suminf.    0.46900 (1) obj. -41.3799 iterations 1\n",
      "Cbc0038I Pass  14: suminf.    0.37500 (1) obj. -44.5 iterations 1\n",
      "Cbc0038I Pass  15: suminf.    0.46900 (1) obj. -41.3799 iterations 1\n",
      "Cbc0038I Pass  16: suminf.    0.11499 (1) obj. -41.3799 iterations 1\n",
      "Cbc0038I Pass  17: suminf.    0.11499 (1) obj. -41.3799 iterations 0\n",
      "Cbc0038I Pass  18: suminf.    0.46834 (1) obj. -41.3799 iterations 1\n",
      "Cbc0038I Pass  19: suminf.    0.12500 (1) obj. -44.5 iterations 2\n",
      "Cbc0038I Pass  20: suminf.    0.28100 (1) obj. -41.3799 iterations 1\n",
      "Cbc0038I Pass  21: suminf.    0.12500 (1) obj. -44.5 iterations 1\n",
      "Cbc0038I Pass  22: suminf.    0.28100 (1) obj. -41.3799 iterations 1\n",
      "Cbc0038I Pass  23: suminf.    0.11499 (1) obj. -41.3799 iterations 2\n",
      "Cbc0038I Pass  24: suminf.    0.37500 (1) obj. -44.5 iterations 2\n",
      "Cbc0038I Pass  25: suminf.    0.46900 (1) obj. -41.3799 iterations 1\n",
      "Cbc0038I Pass  26: suminf.    0.11499 (1) obj. -41.3799 iterations 1\n",
      "Cbc0038I Pass  27: suminf.    0.11499 (1) obj. -41.3799 iterations 0\n",
      "Cbc0038I Pass  28: suminf.    0.11499 (1) obj. -41.3799 iterations 0\n",
      "Cbc0038I Pass  29: suminf.    0.11499 (1) obj. -41.3799 iterations 0\n",
      "Cbc0038I Pass  30: suminf.    0.11499 (1) obj. -41.3799 iterations 0\n",
      "Cbc0038I No solution found this major pass\n",
      "Cbc0038I Before mini branch and bound, 1 integers at bound fixed and 0 continuous\n",
      "Cbc0038I Full problem 1 rows 5 columns, reduced to 1 rows 4 columns\n",
      "Cbc0038I Mini branch and bound improved solution from -40 to -42 (0.02 seconds)\n",
      "Cbc0038I Round again with cutoff of -43.3599\n",
      "Cbc0038I Pass  30: suminf.    0.27999 (1) obj. -43.3599 iterations 0\n",
      "Cbc0038I Pass  31: suminf.    0.37500 (1) obj. -44.5 iterations 2\n",
      "Cbc0038I Pass  32: suminf.    0.43200 (1) obj. -43.3599 iterations 1\n",
      "Cbc0038I Pass  33: suminf.    0.42399 (1) obj. -43.3599 iterations 1\n",
      "Cbc0038I Pass  34: suminf.    0.42399 (1) obj. -43.3599 iterations 0\n",
      "Cbc0038I Pass  35: suminf.    0.24267 (1) obj. -43.3599 iterations 1\n",
      "Cbc0038I Pass  36: suminf.    0.12500 (1) obj. -44.5 iterations 2\n",
      "Cbc0038I Pass  37: suminf.    0.18200 (1) obj. -43.3599 iterations 1\n",
      "Cbc0038I Pass  38: suminf.    0.37500 (1) obj. -44.5 iterations 2\n",
      "Cbc0038I Pass  39: suminf.    0.37500 (1) obj. -44.5 iterations 0\n",
      "Cbc0038I Pass  40: suminf.    0.11333 (1) obj. -43.3599 iterations 4\n",
      "Cbc0038I Pass  41: suminf.    0.11333 (1) obj. -43.3599 iterations 0\n",
      "Cbc0038I Pass  42: suminf.    0.50000 (1) obj. -44 iterations 2\n",
      "Cbc0038I Pass  43: suminf.    0.46800 (1) obj. -43.3599 iterations 1\n",
      "Cbc0038I Pass  44: suminf.    0.46800 (1) obj. -43.3599 iterations 0\n",
      "Cbc0038I Pass  45: suminf.    0.46800 (1) obj. -43.3599 iterations 0\n",
      "Cbc0038I Pass  46: suminf.    0.18200 (1) obj. -43.3599 iterations 1\n",
      "Cbc0038I Pass  47: suminf.    0.12500 (1) obj. -44.5 iterations 1\n",
      "Cbc0038I Pass  48: suminf.    0.18200 (1) obj. -43.3599 iterations 1\n",
      "Cbc0038I Pass  49: suminf.    0.37500 (1) obj. -44.5 iterations 2\n",
      "Cbc0038I Pass  50: suminf.    0.43200 (1) obj. -43.3599 iterations 1\n",
      "Cbc0038I Pass  51: suminf.    0.37500 (1) obj. -44.5 iterations 1\n",
      "Cbc0038I Pass  52: suminf.    0.37500 (1) obj. -44.5 iterations 0\n",
      "Cbc0038I Pass  53: suminf.    0.42399 (1) obj. -43.3599 iterations 2\n",
      "Cbc0038I Pass  54: suminf.    0.37500 (1) obj. -44.5 iterations 2\n",
      "Cbc0038I Pass  55: suminf.    0.42399 (1) obj. -43.3599 iterations 2\n",
      "Cbc0038I Pass  56: suminf.    0.42399 (1) obj. -43.3599 iterations 0\n",
      "Cbc0038I Pass  57: suminf.    0.42399 (1) obj. -43.3599 iterations 0\n",
      "Cbc0038I Pass  58: suminf.    0.27999 (1) obj. -43.3599 iterations 1\n",
      "Cbc0038I Pass  59: suminf.    0.27999 (1) obj. -43.3599 iterations 0\n",
      "Cbc0038I Rounding solution of -44 is better than previous of -42\n",
      "\n",
      "Cbc0038I Before mini branch and bound, 0 integers at bound fixed and 0 continuous\n",
      "Cbc0038I Mini branch and bound did not improve solution (0.02 seconds)\n",
      "Cbc0038I After 0.02 seconds - Feasibility pump exiting with objective of -44 - took 0.01 seconds\n",
      "Cbc0012I Integer solution of -44 found by feasibility pump after 0 iterations and 0 nodes (0.02 seconds)\n",
      "Cbc0001I Search completed - best objective -44, took 1 iterations and 0 nodes (0.02 seconds)\n",
      "Cbc0035I Maximum depth 0, 4 variables fixed on reduced cost\n",
      "Cuts at root node changed objective from -44.8 to -40\n",
      "Probing was tried 0 times and created 0 cuts of which 0 were active after adding rounds of cuts (0.000 seconds)\n",
      "Gomory was tried 0 times and created 0 cuts of which 0 were active after adding rounds of cuts (0.000 seconds)\n",
      "Knapsack was tried 0 times and created 0 cuts of which 0 were active after adding rounds of cuts (0.000 seconds)\n",
      "Clique was tried 0 times and created 0 cuts of which 0 were active after adding rounds of cuts (0.000 seconds)\n",
      "MixedIntegerRounding2 was tried 0 times and created 0 cuts of which 0 were active after adding rounds of cuts (0.000 seconds)\n",
      "FlowCover was tried 0 times and created 0 cuts of which 0 were active after adding rounds of cuts (0.000 seconds)\n",
      "TwoMirCuts was tried 0 times and created 0 cuts of which 0 were active after adding rounds of cuts (0.000 seconds)\n",
      "ZeroHalf was tried 0 times and created 0 cuts of which 0 were active after adding rounds of cuts (0.000 seconds)\n",
      "\n",
      "Result - Optimal solution found\n",
      "\n",
      "Objective value:                44.00000000\n",
      "Enumerated nodes:               0\n",
      "Total iterations:               1\n",
      "Time (CPU seconds):             0.01\n",
      "Time (Wallclock seconds):       0.02\n",
      "\n",
      "Option for printingOptions changed from normal to all\n",
      "Total time (CPU seconds):       0.01   (Wallclock seconds):       0.03\n",
      "\n",
      "Solução do ILP: [1.0, 0.0, 1.0, 1.0, 1.0]\n",
      "Valor da Função Objetivo do ILP: 44.0\n"
     ]
    },
    {
     "name": "stderr",
     "output_type": "stream",
     "text": [
      "/opt/conda/lib/python3.10/site-packages/pulp/pulp.py:1352: UserWarning: Spaces are not permitted in the name. Converted to '_'\n",
      "  warnings.warn(\"Spaces are not permitted in the name. Converted to '_'\")\n"
     ]
    }
   ],
   "source": [
    "import pulp as lp\n",
    "\n",
    "\n",
    "num_items = len(values)\n",
    "# Resolver com um algoritmo de programação linear inteira\n",
    "ilp = lp.LpProblem(\"Knapsack ILP\", lp.LpMaximize)\n",
    "\n",
    "x = [lp.LpVariable(f\"x_{i}\", cat=lp.LpBinary) for i in range(num_items)]\n",
    "\n",
    "# Função objetivo\n",
    "ilp += lp.lpSum(values[i] * x[i] for i in range(num_items))\n",
    "\n",
    "# Restrição de capacidade\n",
    "ilp += lp.lpSum(weights[i] * x[i] for i in range(num_items)) <= max_weight\n",
    "\n",
    "ilp.solve()\n",
    "\n",
    "ilp_result = [x[i].varValue for i in range(num_items)]\n",
    "\n",
    "print('Solução do ILP:', ilp_result)\n",
    "print('Valor da Função Objetivo do ILP:', lp.value(ilp.objective))"
   ]
  },
  {
   "cell_type": "markdown",
   "id": "48522d46-db38-4021-a7be-f7e4b7626394",
   "metadata": {},
   "source": [
    "### **6. Segunda solução proposta: VQE (Variational Quantum Eigensolver)** <a class=\"anchor\" id=\"sixth-bullet\"></a>\n",
    "\n",
    "\n",
    "Para a solução anterior, quando o código foi modificado para utilizar um dispositivo quântico real disponível por meio do Qiskit, não foi possível executá-lo. Isso porque a biblioteca, o Qiskit Aqua, que anteriormente suportava a execução de algoritmos quânticos, como o Quantum Approximate Optimization Algorithm (QAOA), em dispositivos quânticos, foi deprecada. Assim, a IBM não oferece mais suporte a essa funcionalidade em versões mais recentes da biblioteca Qiskit Aqua. Em vez disso, eles recomendam o uso de bibliotecas e ferramentas mais especializadas para essa finalidade, como o Qiskit Runtime ou o IBM Quantum Composer.\n",
    "\n",
    "Por isso, foi decidido explorar outros algoritmos para resolver esse problema de otimização, no caso o VQE. Importante ressaltar que esse algoritmo executa de maneira mais lenta em comparação ao QAOA, já que é um algoritmo de otimização que busca encontrar a energia mínima de um sistema quântico, enquanto o QAOA é um algoritmo de aproximação que se concentra na otimização de problemas de otimização combinatorial. O QAOA é mais eficiente para resolver problemas específicos de otimização, mas pode não ser tão preciso quanto o VQE em termos de encontrar a energia mínima exata do sistema.\n",
    "\n",
    "O VQE funciona combinando um circuito quântico (ansatz) que depende de parâmetros variáveis com um otimizador clássico. Ele começa com um conjunto inicial de parâmetros, executa o circuito quântico para criar um estado quântico, mede a energia desse estado e, em seguida, ajusta os parâmetros de maneira a reduzir a energia medida. Esse processo é repetido iterativamente até que uma convergência seja alcançada, resultando em uma estimativa da energia mínima do sistema.\n",
    "\n",
    "No contexto do problema da mochila, o VQE pode ser aplicado da seguinte maneira: em vez de estimar a energia mínima de um sistema quântico, o VQE é usado para otimizar uma solução para o problema da mochila.\n",
    "\n",
    "Para isso, o \"ansatz\" quântico - que é uma suposição inicial sobre a forma da solução - é projetado de forma a representar possíveis configurações de itens que podem ser colocados na mochila, onde os parâmetros variáveis controlam quais itens são escolhidos. O circuito quântico é executado para gerar um estado quântico que codifica uma seleção de itens, e a medida do estado quântico fornece uma estimativa da utilidade total dessa seleção, enquanto as restrições de peso são mantidas.\n",
    "\n",
    "O otimizador clássico é então usado para ajustar os parâmetros do \"ansatz\" de maneira a melhorar a utilidade da seleção. Esse processo é repetido iterativamente, procurando maximizar a utilidade total sujeita às restrições de peso da mochila. No final, o VQE fornece uma solução aproximada para o problema da mochila, encontrando a combinação de itens que maximiza a utilidade dentro das limitações de peso.\n",
    "\n"
   ]
  },
  {
   "cell_type": "code",
   "execution_count": 16,
   "id": "3ee1fe75-8de8-49d6-948b-4655f090516f",
   "metadata": {},
   "outputs": [
    {
     "name": "stdout",
     "output_type": "stream",
     "text": [
      "result:\n",
      " objective function value: -41.0\n",
      "variable values: x_0=1.0, x_1=0.0, x_2=0.0, x_3=1.0, x_4=0.0, c0@int_slack@0=1.0, c0@int_slack@1=0.0, c0@int_slack@2=0.0, c0@int_slack@3=0.0\n",
      "status: SUCCESS\n",
      "<class 'qiskit_optimization.algorithms.minimum_eigen_optimizer.MinimumEigenOptimizationResult'>\n",
      "\n",
      " index of the chosen items: [0, 3, 5]\n"
     ]
    }
   ],
   "source": [
    "# QAOA\n",
    "from qiskit.primitives import Sampler\n",
    "from qiskit_aer.primitives import Sampler as AerSampler\n",
    "from qiskit.algorithms.optimizers import COBYLA\n",
    "from qiskit.algorithms.minimum_eigensolvers import VQE, SamplingVQE\n",
    "from qiskit.circuit.library import TwoLocal\n",
    "from qiskit.primitives import Estimator\n",
    "from qiskit_optimization.converters import QuadraticProgramToQubo\n",
    "\n",
    "\n",
    "\n",
    "seed = 123\n",
    "algorithm_globals.random_seed = seed\n",
    "\n",
    "service = QiskitRuntimeService(channel=\"ibm_quantum\")\n",
    "\n",
    "options = Options(resilience_level=1)\n",
    "\n",
    "backend = service.backend(\"ibmq_qasm_simulator\")\n",
    "\n",
    "num_qubits = 2\n",
    "ansatz = TwoLocal(num_qubits, 'ry', 'cz')\n",
    "\n",
    "backend = service.backend(\"ibm_lagos\")\n",
    "with Session(backend=backend) as session:\n",
    "\n",
    "    sampler = Sampler() \n",
    "    optimizer = COBYLA()\n",
    "    \n",
    "    #conv = QuadraticProgramToQubo()\n",
    "    #problem2 = conv.convert(qp)\n",
    "    #operator = problem2.to_ising()\n",
    "\n",
    "    vqe = SamplingVQE(sampler=sampler, ansatz=ansatz, optimizer=optimizer)\n",
    "    meo = MinimumEigenOptimizer(min_eigen_solver= vqe)\n",
    "    result = meo.solve(qp)\n",
    "    #vqe.compute_minimum_eigenvalue(operator=operator)\n",
    "                   \n",
    "    print('result:\\n', result.prettyprint())\n",
    "    print(type(result))\n",
    "    print('\\n index of the chosen items:', interpret(result)) \n",
    "    \n"
   ]
  },
  {
   "cell_type": "code",
   "execution_count": 14,
   "id": "f70dccc4-5f53-4957-9e99-21f416a6ce14",
   "metadata": {
    "tags": []
   },
   "outputs": [
    {
     "name": "stdout",
     "output_type": "stream",
     "text": [
      "Traceback \u001b[1;36m(most recent call last)\u001b[0m:\n",
      "\u001b[0m  Cell \u001b[0;32mIn[14], line 21\u001b[0m\n",
      "    backend = service.backend(\"qasm_simulator\")\u001b[0m\n",
      "\u001b[0m  File \u001b[0;32m/opt/conda/lib/python3.10/site-packages/qiskit_ibm_runtime/qiskit_runtime_service.py:768\u001b[0m in \u001b[0;35mbackend\u001b[0m\n",
      "    backends = self.backends(name, instance=instance)\u001b[0m\n",
      "\u001b[1;36m  File \u001b[1;32m/opt/conda/lib/python3.10/site-packages/qiskit_ibm_runtime/qiskit_runtime_service.py:545\u001b[1;36m in \u001b[1;35mbackends\u001b[1;36m\n",
      "\u001b[1;33m    raise QiskitBackendNotFoundError(\"No backend matches the criteria.\")\u001b[1;36m\n",
      "\u001b[1;31mQiskitBackendNotFoundError\u001b[0m\u001b[1;31m:\u001b[0m 'No backend matches the criteria.'\n",
      "\n",
      "Use %tb to get the full traceback.\n"
     ]
    },
    {
     "data": {
      "text/html": [
       "\n",
       "<style>\n",
       ".button {\n",
       "  border: none;\n",
       "  color: white;\n",
       "  padding: 4px 8px;\n",
       "  text-align: center;\n",
       "  text-decoration: none;\n",
       "  display: inline-block;\n",
       "  font-size: 12px;\n",
       "  margin: 4px 2px;\n",
       "  transition-duration: 0.2s;\n",
       "  cursor: pointer;\n",
       "}\n",
       ".iqx-button {\n",
       "  background-color: #0f62fe; \n",
       "  color: white; \n",
       "}\n",
       ".iqx-button:hover {\n",
       "  background-color: #0043ce;\n",
       "  color: white;\n",
       "}\n",
       "</style>\n",
       "<a href=\"https://stackoverflow.com/search?q=QiskitBackendNotFoundError: No backend matches the criteria.\" target='_blank'><button class='button iqx-button'>Search for solution online</button></a>\n"
      ],
      "text/plain": [
       "<IPython.core.display.HTML object>"
      ]
     },
     "metadata": {},
     "output_type": "display_data"
    }
   ],
   "source": [
    "from qiskit.algorithms.optimizers import COBYLA\n",
    "from qiskit.algorithms.minimum_eigensolvers import SamplingVQE\n",
    "from qiskit.circuit.library import TwoLocal\n",
    "from qiskit_optimization import QuadraticProgram\n",
    "from qiskit_optimization.converters import QuadraticProgramToQubo\n",
    "from qiskit_ibm_runtime import QiskitRuntimeService, Session, Sampler\n",
    "\n",
    "seed = 123\n",
    "algorithm_globals.random_seed = seed\n",
    "\n",
    "# Suponho que você já tenha qp (problema quadrático) definido aqui\n",
    "\n",
    "# Converter QuadraticProgram em um operador qubit\n",
    "qp = QuadraticProgramToQubo().convert(qp)\n",
    "operator, _ = qp.to_ising()\n",
    "\n",
    "# Definir ansatz, backend e otimizador\n",
    "num_qubits = 2\n",
    "ansatz = TwoLocal(num_qubits, 'ry', 'cz')\n",
    "service = QiskitRuntimeService(channel=\"ibm_quantum\",token=\"af81035976cc2cda70a76c73acb3a3c48b92135d33604133b72728f031bca1ab4b2b314a2c610d4a846ac155b999c196d8f69c2ff4c28506b7384c6f4b1520a5\")\n",
    "backend = service.backend(\"qasm_simulator\")\n",
    "optimizer = COBYLA()\n",
    "\n",
    "# Construir circuito completo\n",
    "vqe = SamplingVQE(sampler=backend, ansatz=ansatz, optimizer=optimizer)\n",
    "\n",
    "with Session(backend=backend):\n",
    "    result_vqe = vqe.compute_minimum_eigenvalue(operator=operator)\n",
    "\n",
    "# Exiba os resultados\n",
    "print('result:\\n', result_vqe.prettyprint())\n",
    "print(type(result_vqe))\n",
    "print('\\n index of the chosen items:', interpret(result_vqe))\n",
    "\n"
   ]
  },
  {
   "cell_type": "markdown",
   "id": "b0fa85c1-2bfd-41cd-a0ce-bd2d605203b0",
   "metadata": {},
   "source": [
    "### **7. Montagem do Circuito QAOA** <a class=\"anchor\" id=\"seventh-bullet\"></a>\n",
    "\n",
    "\n",
    "Apesar de ter sido tentada um outra solução quântica, no caso o VQE, também foi testada o QAOA só que de uma maneira mais manual, construindo de fato o circuito dele, que é um circuito quântico parametrizado chamado \"ansatz\" para criar uma suposição inicial sobre o estado quântico que pode representar uma solução do problema de otimização. O circuito QAOA, como descrito e visto anteriormente de maneira indireta, é composto por uma sequência de camadas, cada uma das quais consiste em rotações de qubit com portas específicas.\n",
    "\n",
    "Sendo assim, o circuito que irá ser construído segue as seguintes etapas:\n",
    "\n",
    "**1. Inicialização:** O circuito começa com uma série de portas de Hadamard aplicadas a cada qubit no estado |0⟩. Isso cria um superestado uniforme em que cada possível solução do problema de otimização tem uma amplitude inicial.\n",
    "\n",
    "**2. Construção do Hamiltoniano:** Depois os termos do Hamiltoniano do sistema são calculados. Nesse caso, o Hamiltoniano é uma descrição da energia total do sistema e é fundamental para o QAOA. O Hamiltoniano inclui termos que representam a função de custo e a função de restrição do problema da mochila. Os valores dos termos são calculados com base nos custos e pesos dos itens.\n",
    "\n",
    "**3. Construção das Camadas QAOA:** Em seguida, as camadas de mistura (mixer) e custo (cost) do QAOA são construídas. Para isso, são usadas portas paramétricas (P) para aplicar rotações com ângulos paramétricos aos qubits. As rotações são definidas com base nos valores dos termos do Hamiltoniano calculados anteriormente. As camadas de mistura são controladas pelo ângulo `gamma`, enquanto as camadas de custo são controladas pelo ângulo `beta`.\n",
    "\n",
    "**4. Finalização do Circuito:** Uma porta Rx é aplicada no final para cada qubit, com ângulos 2 vezes `beta`. Isso conclui a construção do circuito QAOA e permite um ajuste fino da superposição de estados, o que pode ser crucial para obter soluções melhores.\n",
    "\n",
    "**5. Número de Camadas:** Por fim, o número de camadas no circuito QAOA é um parâmetro ajustável. À medida que o número de camadas aumenta, o circuito pode representar soluções mais complexas do problema. No entanto, um número maior de camadas também aumenta a complexidade do cálculo e o esforço computacional.\n",
    "\n",
    "\n",
    "Assim, esse algoritmo é executado iterativamente, ajustando os ângulos dos parâmetros a cada iteração. Durante o processo de otimização, o algoritmo busca os ângulos que minimizam a função de custo associada ao problema de otimização. À medida que o algoritmo converge, a solução aproximada para o problema é refinada. Porém,  no código construído a seguir, uma única camada de mistura e uma única camada de custo foram aplicadas"
   ]
  },
  {
   "cell_type": "code",
   "execution_count": 17,
   "id": "53c53861-5625-442b-9cb7-5ff9f370e1a1",
   "metadata": {
    "tags": []
   },
   "outputs": [],
   "source": [
    "import numpy as np\n",
    "import qiskit\n",
    "from qiskit import QuantumCircuit, ClassicalRegister, QuantumRegister\n",
    "from qiskit import execute, BasicAer, Aer\n",
    "from qiskit.tools import visualization\n",
    "from qiskit.quantum_info.operators import Operator, Pauli\n",
    "from qiskit.tools.visualization import plot_histogram\n",
    "from qiskit.tools.monitor import job_monitor\n",
    "import matplotlib.pyplot as plt\n",
    "from itertools import product, combinations\n",
    "\n",
    "#knapsack problem\n",
    "N = 3\n",
    "C = 4\n",
    "cost = [13, 40, 31]\n",
    "weight = [2, 4, 6]\n",
    "beta = 0.1 * np.pi\n",
    "gamma = 0.1 * np.pi\n",
    "\n",
    "#parameter\n",
    "B=1\n",
    "A = B*(max(cost)+100)\n",
    "\n",
    "#function\n",
    "def X(i):\n",
    "    x = np.eye(1)\n",
    "    for k in range(N):\n",
    "        if k == i:\n",
    "            x = np.kron(x, np.array([[0,1],[1,0]]))\n",
    "        else:\n",
    "            x = np.kron(x, np.eye(2))\n",
    "    return x\n",
    "\n",
    "def Z(i, coeff):\n",
    "    z = np.eye(1)\n",
    "    for k in range(N):\n",
    "        if k == i:\n",
    "            z = np.kron(z, np.array([[coeff,0],[0,-1*coeff]]))\n",
    "        else:\n",
    "            z = np.kron(z, np.eye(2))\n",
    "    return z\n",
    "\n",
    "def Unitary(A,k):\n",
    "    vec = np.linalg.eig(A)[1]\n",
    "    val = np.linalg.eig(A)[0]\n",
    "    d_list = np.array([np.e**(ki1j) for i in val])\n",
    "    diag = np.diag(d_list)\n",
    "    a=np.dot(vec,diag)\n",
    "    b=np.dot(a,np.linalg.inv(vec))\n",
    "    return b\n",
    "\n",
    "def Cost(x):\n",
    "    return sum([int(x[i])*cost[N-1-i] for i in range(N)])\n",
    "\n",
    "def Weight(x):\n",
    "    return sum([int(x[i])*weight[N-1-i] for i in range(N)])"
   ]
  },
  {
   "cell_type": "code",
   "execution_count": 18,
   "id": "41881d5f-6249-439a-a4e6-4054bef1b27a",
   "metadata": {
    "tags": []
   },
   "outputs": [],
   "source": [
    "qr_N = QuantumRegister(N)\n",
    "qr_C = QuantumRegister(C)\n",
    "cr = ClassicalRegister(N)"
   ]
  },
  {
   "cell_type": "code",
   "execution_count": 19,
   "id": "5efbb6f7-a763-455c-8c27-c1ea834006bc",
   "metadata": {
    "tags": []
   },
   "outputs": [
    {
     "data": {
      "image/png": "[encoded data removed]",
      "text/plain": [
       "<Figure size 891.005x702.333 with 1 Axes>"
      ]
     },
     "execution_count": 19,
     "metadata": {},
     "output_type": "execute_result"
    }
   ],
   "source": [
    "circuit = QuantumCircuit(qr_N,qr_C,cr,name=\"QAOA\")\n",
    "\n",
    "#initialization\n",
    "for i in range(N+C):\n",
    "    circuit.h(i)\n",
    "\n",
    "#hamiltonian\n",
    "term = dict()\n",
    "term[\"null\"] = 0\n",
    "for i in range(N):\n",
    "    term[qr_N[i]] = 0\n",
    "    for n in range(C):\n",
    "        term[qr_C[n]] = 0\n",
    "for i in range(N):\n",
    "    for n in range(C):\n",
    "        term[qr_N[i], qr_C[n]] = 0\n",
    "for i,j in combinations(list(range(N)),2):\n",
    "    term[qr_N[i],qr_N[j]] = 0\n",
    "for m,n in combinations(list(range(C)),2):\n",
    "    term[qr_C[m],qr_C[n]] = 0\n",
    "\n",
    "for i in range(N):\n",
    "    term[qr_N[i]] += -1/2*(A*(weight[i]**2)-B*cost[i])\n",
    "    term[\"null\"] += 1/2*(A*(weight[i]**2)-B*cost[i])\n",
    "\n",
    "for n in range(C):\n",
    "    term[qr_C[n]] += -1/2*(A*(n*2)-1)\n",
    "    term[\"null\"] += 1/2*(A*(n*2)-1)\n",
    "\n",
    "for (i,j) in combinations(list(range(N)),2):\n",
    "    term[\"null\"] += 2*A*weight[i]*weight[j]*1/4\n",
    "    term[qr_N[i]] += 2*A*weight[i]*weight[j]*(-1/4)\n",
    "    term[qr_N[j]] += 2*A*weight[i]*weight[j]*(-1/4)\n",
    "    term[qr_N[i], qr_N[j]] += 2*A*weight[i]*weight[j]*(1/4)\n",
    "\n",
    "for (m,n) in combinations(list(range(C)),2):\n",
    "    term[\"null\"] += 2*A*m*n*1/4\n",
    "    term[qr_C[m]] += 2*A*m*n*(-1/4)\n",
    "    term[qr_C[n]] += 2*A*m*n*(-1/4)\n",
    "    term[qr_C[m], qr_C[n]] += 2*A*m*n*(1/4)\n",
    "\n",
    "for i in range(N):\n",
    "    for n in range(C):\n",
    "        term[\"null\"] += -2*A*weight[i]*n*1/4\n",
    "        term[qr_N[i]] += -2*A*weight[i]*n*(-1/4)\n",
    "        term[qr_C[n]] += -2*A*weight[i]*n*(-1/4)\n",
    "        term[qr_N[i], qr_C[n]] += -2*A*weight[i]*n*(1/4)\n",
    "\n",
    "for t in term:\n",
    "    if type(t) == qiskit.circuit.quantumregister.Qubit:\n",
    "        circuit.p(gamma*term[t],t)\n",
    "    if type(t) == tuple:\n",
    "        circuit.p(2*gamma*term[t],t[0])\n",
    "        circuit.p(2*gamma*term[t],t[1])\n",
    "\n",
    "for i in range(N):\n",
    "    circuit.rx(2*beta, qr_N[i])\n",
    "\n",
    "for n in range(C):\n",
    "    circuit.rx(2*beta, qr_C[n])\n",
    "    \n",
    "circuit.draw(\"mpl\")"
   ]
  },
  {
   "cell_type": "code",
   "execution_count": 20,
   "id": "af1153ca-0d36-4756-9e25-b18dd6d1d0d0",
   "metadata": {
    "tags": []
   },
   "outputs": [
    {
     "name": "stdout",
     "output_type": "stream",
     "text": [
      "output\n"
     ]
    }
   ],
   "source": [
    "backend = Aer.get_backend('statevector_simulator')\n",
    "job = execute(circuit, backend)\n",
    "result = job.result()\n",
    "outputstate = result.get_statevector(circuit)\n",
    "print(\"output\")"
   ]
  },
  {
   "cell_type": "code",
   "execution_count": 21,
   "id": "603f9fe8-824e-43a6-b84e-9bffa53de95f",
   "metadata": {
    "tags": []
   },
   "outputs": [
    {
     "name": "stdout",
     "output_type": "stream",
     "text": [
      "optimal solution: 110\n",
      "optimal cost: 71\n"
     ]
    },
    {
     "data": {
      "image/png": "[encoded data removed]",
      "text/plain": [
       "<Figure size 700x500 with 1 Axes>"
      ]
     },
     "execution_count": 21,
     "metadata": {},
     "output_type": "execute_result"
    }
   ],
   "source": [
    "circuit.measure(qr_N,cr)\n",
    "circuit.draw(output = 'mpl')\n",
    "plt.show()\n",
    "backend = Aer.get_backend('qasm_simulator')\n",
    "job = execute(circuit, backend,shots = 100)\n",
    "result = job.result()\n",
    "counts = result.get_counts(circuit)\n",
    "\n",
    "#Execute on quantum Device\n",
    "#provider = IBMQ.get_provider()\n",
    "#backends = provider.get_backend('ibmq_16_melbourne')\n",
    "#job = execute(circuit, backend,shots = 100)\n",
    "#result = job.result()\n",
    "#counts = result.get_counts(circuit)\n",
    "plot_histogram(counts)\n",
    "plt.show()\n",
    "\n",
    "opt_sol = \"\"\n",
    "opt_obj = 0\n",
    "for sol in counts:\n",
    "    if counts[sol] >= 5:\n",
    "        if (Cost(sol) > opt_obj) and (Weight(sol) <= 10):\n",
    "            opt_sol = sol\n",
    "            opt_obj = Cost(sol)\n",
    "\n",
    "print(\"optimal solution:\", opt_sol)\n",
    "print(\"optimal cost:\", opt_obj)\n",
    "plot_histogram(counts)"
   ]
  },
  {
   "cell_type": "code",
   "execution_count": 22,
   "id": "4721f756-7257-4d64-94c7-7c0a6e1bbe2d",
   "metadata": {
    "tags": []
   },
   "outputs": [
    {
     "name": "stderr",
     "output_type": "stream",
     "text": [
      "/tmp/ipykernel_60/676626800.py:1: DeprecationWarning: The qiskit.IBMQ entrypoint and the qiskit-ibmq-provider package (accessible from 'qiskit.providers.ibmq`) are deprecated and will be removed in a future release. Instead you should use the qiskit-ibm-provider package which is accessible from 'qiskit_ibm_provider'. You can install it with 'pip install qiskit_ibm_provider'. Just replace 'qiskit.IBMQ' with 'qiskit_ibm_provider.IBMProvider'\n",
      "  IBMQ.load_account()\n"
     ]
    },
    {
     "name": "stdout",
     "output_type": "stream",
     "text": [
      "least busy backend:  ibm_lagos\n"
     ]
    }
   ],
   "source": [
    "IBMQ.load_account()\n",
    "provider = IBMQ.get_provider(hub='ibm-q')\n",
    "backend = least_busy(provider.backends(filters=lambda x: x.configuration().n_qubits >= 2 \n",
    "                                       and not x.configuration().simulator \n",
    "                                       and x.status().operational==True))\n",
    "print(\"least busy backend: \", backend)\n",
    "# Transpile your quantum circuit for the specific backend (if needed)\n",
    "t_qc = transpile(circuit, backend, optimization_level=3)\n",
    "job = backend.run(t_qc)"
   ]
  },
  {
   "cell_type": "code",
   "execution_count": 23,
   "id": "51d3766e-3a2d-4a5a-a74d-fd6853961e69",
   "metadata": {
    "tags": []
   },
   "outputs": [
    {
     "name": "stdout",
     "output_type": "stream",
     "text": [
      "Job Status: job has successfully run\n"
     ]
    }
   ],
   "source": [
    "# Monitoring our job\n",
    "from qiskit.tools.monitor import job_monitor\n",
    "job_monitor(job)"
   ]
  },
  {
   "cell_type": "code",
   "execution_count": 25,
   "id": "3e783cd0-3216-40a5-8d22-74f3f0d9ba9e",
   "metadata": {
    "tags": []
   },
   "outputs": [
    {
     "data": {
      "image/png": "[encoded data removed]",
      "text/plain": [
       "<Figure size 700x500 with 1 Axes>"
      ]
     },
     "execution_count": 25,
     "metadata": {},
     "output_type": "execute_result"
    }
   ],
   "source": [
    "# Plotting our result\n",
    "result = job.result()\n",
    "plot_histogram(result.get_counts(circuit))"
   ]
  },
  {
   "cell_type": "markdown",
   "id": "3a1f39a1-11b2-4c04-bdb2-2f0b990746d4",
   "metadata": {},
   "source": [
    "### **8. Referências** <a class=\"anchor\" id=\"eighth-bullet\"></a>\n",
    "\n",
    "- CERONI, Jack. \"Intro to QAOA\". 2020. Disponível em: https://pennylane.ai/qml/demos/tutorial_qaoa_intro. Acesso em: 15 out. 2023.\n",
    "\n",
    "- QISKIT COMMUNITY. \"qiskit-optimization\". Disponível em: https://github.com/qiskit-community/qiskit-optimization/blob/d6cb5fcd5cbd1637a392b6184bf7fc8956b3a507/qiskit_optimization/applications/knapsack.py#L25 . Acesso em: 15 out. 2023.\n",
    "\n",
    "- QISKIT. \"QAOA\". 2023. Disponível em: https://qiskit.org/ecosystem/algorithms/stubs/qiskit_algorithms.QAOA.html. Acesso em: 15 out. 2023.\n",
    "\n",
    "- QISKIT. \"Quadratic Programs\". 2023. Disponível em: https://qiskit.org/ecosystem/optimization/tutorials/01_quadratic_program.html. Acesso em: 15 out. 2023.\n",
    "\n",
    "- QISKIT. \"Optimizers\". 2023. Disponível em: https://qiskit.org/documentation/stubs/qiskit.algorithms.optimizers.html. Acesso em: 15 out. 2023.\n",
    "\n",
    "- PAREKH, Ojas D. \"Quantum Optimization Algorithms\". 2018. Disponível em: https://www.osti.gov/servlets/purl/1526360. Acesso em: 15 out. 2023.\n",
    "\n",
    "- SINGH, Bhavini. \"Knapsack Problem: Different methods to solve the Knapsack Problem\". 2021. Disponível em: https://medium.com/analytics-vidhya/knapsack-problem-7f05d0900db8#:~:text=Time%20Complexity%3A%20O%20(N*,the%20capacity%20of%20the%20knapsack. Acesso em: 22 out. 2023.\n",
    "\n",
    "- REFERENCIA CODIGO CIRCUITO: https://github.com/qiskit-community/quantum-hackathon-korea-21/issues/4\n",
    "\n",
    "- ARTIGO ISING KNAPSACK: https://arxiv.org/pdf/1302.5843.pdf\n",
    "\n",
    "EOF"
   ]
  },
  {
   "cell_type": "code",
   "execution_count": null,
   "id": "73bc1683-98f7-4f7b-b56d-aadcbc180b2d",
   "metadata": {},
   "outputs": [],
   "source": []
  }
 ],
 "metadata": {
  "kernelspec": {
   "display_name": "Python 3 (ipykernel)",
   "language": "python",
   "name": "python3"
  },
  "language_info": {
   "codemirror_mode": {
    "name": "ipython",
    "version": 3
   },
   "file_extension": ".py",
   "mimetype": "text/x-python",
   "name": "python",
   "nbconvert_exporter": "python",
   "pygments_lexer": "ipython3",
   "version": "3.10.8"
  },
  "widgets": {
   "application/vnd.jupyter.widget-state+json": {
    "state": {
     "00ee2f61cd9a47b392b360a7f480fc83": {
      "model_module": "@jupyter-widgets/controls",
      "model_module_version": "2.0.0",
      "model_name": "HTMLModel",
      "state": {
       "layout": "IPY_MODEL_3e4067badb28469d91250fb7103eda26",
       "style": "IPY_MODEL_91ec262871e542e09ab4367f8796b7a9",
       "value": "cn6d5adrmwhg008k53y0"
      }
     },
     "061cedbf24b14343b3d42b430bb16054": {
      "model_module": "@jupyter-widgets/controls",
      "model_module_version": "2.0.0",
      "model_name": "HTMLModel",
      "state": {
       "layout": "IPY_MODEL_1da05ccca0074c158b8a3f2e67b10452",
       "style": "IPY_MODEL_d1af843317dc452a945772367b999e0f",
       "value": "<font style='color:#34BC6E'>DONE</font>"
      }
     },
     "102d066a85ce4aaeb05b818c5083ce63": {
      "model_module": "@jupyter-widgets/base",
      "model_module_version": "2.0.0",
      "model_name": "LayoutModel",
      "state": {
       "width": "70px"
      }
     },
     "1da05ccca0074c158b8a3f2e67b10452": {
      "model_module": "@jupyter-widgets/base",
      "model_module_version": "2.0.0",
      "model_name": "LayoutModel",
      "state": {
       "width": "95px"
      }
     },
     "2161d410a4364f62bfa8347f29a63b16": {
      "model_module": "@jupyter-widgets/controls",
      "model_module_version": "2.0.0",
      "model_name": "HTMLModel",
      "state": {
       "layout": "IPY_MODEL_afd12ccc3ec143dd86cff67a1847a85e",
       "style": "IPY_MODEL_73282b9d844a416ea897a22bb07f3cc1",
       "value": "<h5>Message</h5>"
      }
     },
     "221004ec53674c588d5800efe5e73a05": {
      "model_module": "@jupyter-widgets/controls",
      "model_module_version": "2.0.0",
      "model_name": "ButtonStyleModel",
      "state": {
       "button_color": "white",
       "font_family": null,
       "font_size": null,
       "font_style": null,
       "font_variant": null,
       "font_weight": null,
       "text_color": null,
       "text_decoration": null
      }
     },
     "23b59b06c8d040cb8915cc0eb21161d0": {
      "model_module": "@jupyter-widgets/base",
      "model_module_version": "2.0.0",
      "model_name": "LayoutModel",
      "state": {
       "width": "190px"
      }
     },
     "24ba7fe4a81d4a79aaa0556224b38373": {
      "model_module": "@jupyter-widgets/base",
      "model_module_version": "2.0.0",
      "model_name": "LayoutModel",
      "state": {
       "grid_area": "right",
       "padding": "0px 0px 0px 0px",
       "width": "70px"
      }
     },
     "26dbacc0e66e4f819e29c3613fd2770f": {
      "model_module": "@jupyter-widgets/controls",
      "model_module_version": "2.0.0",
      "model_name": "HBoxModel",
      "state": {
       "children": [
        "IPY_MODEL_86138fcb62f649b58d9da9876df652cb",
        "IPY_MODEL_5236d71d19644fce94fbb9c17a7395d9",
        "IPY_MODEL_527ffbcb3e0b47a4908774a64e4ceb7b",
        "IPY_MODEL_70736821cb7b4e28aff5463655868f3b",
        "IPY_MODEL_2161d410a4364f62bfa8347f29a63b16"
       ],
       "layout": "IPY_MODEL_da8d8aba96494f69a68a6180392f924c"
      }
     },
     "2dc512597f324c10bea615ae0ad68d91": {
      "model_module": "@jupyter-widgets/controls",
      "model_module_version": "2.0.0",
      "model_name": "HTMLStyleModel",
      "state": {
       "description_width": "",
       "font_size": null,
       "text_color": null
      }
     },
     "393fa1c10cdb4b28a80aab3de5106e74": {
      "model_module": "@jupyter-widgets/base",
      "model_module_version": "2.0.0",
      "model_name": "LayoutModel",
      "state": {
       "width": "145px"
      }
     },
     "3e4067badb28469d91250fb7103eda26": {
      "model_module": "@jupyter-widgets/base",
      "model_module_version": "2.0.0",
      "model_name": "LayoutModel",
      "state": {
       "width": "190px"
      }
     },
     "3e5cda5897b740fa935489ab5381cb53": {
      "model_module": "@jupyter-widgets/base",
      "model_module_version": "2.0.0",
      "model_name": "LayoutModel",
      "state": {}
     },
     "4469b184f97746a3a93de9f0f5bc09da": {
      "model_module": "@jupyter-widgets/base",
      "model_module_version": "2.0.0",
      "model_name": "LayoutModel",
      "state": {
       "margin": "0px 0px 10px 0px"
      }
     },
     "4ab8def8191e4a4295ea4b1f83915ce4": {
      "model_module": "@jupyter-widgets/controls",
      "model_module_version": "2.0.0",
      "model_name": "HTMLModel",
      "state": {
       "layout": "IPY_MODEL_4469b184f97746a3a93de9f0f5bc09da",
       "style": "IPY_MODEL_dae63fbf45d340938427cb5856287a9e",
       "value": "<p style='font-family: IBM Plex Sans, Arial, Helvetica, sans-serif; font-size: 20px; font-weight: medium;'>Circuit Properties</p>"
      }
     },
     "4c3a39fc909542ed9a68f86ceb75f5e3": {
      "model_module": "@jupyter-widgets/controls",
      "model_module_version": "2.0.0",
      "model_name": "HTMLModel",
      "state": {
       "layout": "IPY_MODEL_7b2eaa6d9d8a4510ab924302287f03b3",
       "style": "IPY_MODEL_9e38c38a253245dc90b6ce5d10e16ea9",
       "value": "ibm_lagos"
      }
     },
     "4c7008a95c1348aeb82092995c9fba8c": {
      "model_module": "@jupyter-widgets/base",
      "model_module_version": "2.0.0",
      "model_name": "LayoutModel",
      "state": {
       "margin": "0px 5px 0px 0px",
       "width": "32px"
      }
     },
     "5236d71d19644fce94fbb9c17a7395d9": {
      "model_module": "@jupyter-widgets/controls",
      "model_module_version": "2.0.0",
      "model_name": "HTMLModel",
      "state": {
       "layout": "IPY_MODEL_393fa1c10cdb4b28a80aab3de5106e74",
       "style": "IPY_MODEL_d99a42a4089b4d7bb0a7b334ce26a101",
       "value": "<h5>Backend</h5>"
      }
     },
     "527ffbcb3e0b47a4908774a64e4ceb7b": {
      "model_module": "@jupyter-widgets/controls",
      "model_module_version": "2.0.0",
      "model_name": "HTMLModel",
      "state": {
       "layout": "IPY_MODEL_c1e79f5d7e414c67afde57025316d958",
       "style": "IPY_MODEL_f2b48c9c95374a63bdcc67883e8da2df",
       "value": "<h5>Status</h5>"
      }
     },
     "5c530cad1d824c8e989c2dc45f87a657": {
      "model_module": "@jupyter-widgets/base",
      "model_module_version": "2.0.0",
      "model_name": "LayoutModel",
      "state": {
       "grid_template_areas": "\n                                       \". . . . right \"\n                                        ",
       "grid_template_columns": "20% 20% 20% 20% 20%",
       "width": "100%"
      }
     },
     "5e56aa23d8214cd79d37314efe15ee3b": {
      "model_module": "@jupyter-widgets/controls",
      "model_module_version": "2.0.0",
      "model_name": "HTMLStyleModel",
      "state": {
       "description_width": "",
       "font_size": null,
       "text_color": null
      }
     },
     "61680ae75c8349e19deb01dfd883cd4d": {
      "model_module": "@jupyter-widgets/controls",
      "model_module_version": "2.0.0",
      "model_name": "HTMLStyleModel",
      "state": {
       "description_width": "",
       "font_size": null,
       "text_color": null
      }
     },
     "6eec4b25604e49cab03e02a20b869ce0": {
      "model_module": "@jupyter-widgets/controls",
      "model_module_version": "2.0.0",
      "model_name": "HTMLModel",
      "state": {
       "layout": "IPY_MODEL_3e5cda5897b740fa935489ab5381cb53",
       "style": "IPY_MODEL_5e56aa23d8214cd79d37314efe15ee3b",
       "value": "job has successfully run"
      }
     },
     "70736821cb7b4e28aff5463655868f3b": {
      "model_module": "@jupyter-widgets/controls",
      "model_module_version": "2.0.0",
      "model_name": "HTMLModel",
      "state": {
       "layout": "IPY_MODEL_b7292f8e36734555bdd6059067c54b72",
       "style": "IPY_MODEL_a2576a776224467fa4ab4c910f01c6d1",
       "value": "<h5>Queue</h5>"
      }
     },
     "73282b9d844a416ea897a22bb07f3cc1": {
      "model_module": "@jupyter-widgets/controls",
      "model_module_version": "2.0.0",
      "model_name": "HTMLStyleModel",
      "state": {
       "description_width": "",
       "font_size": null,
       "text_color": null
      }
     },
     "794a94f7fb67423db2c6e622b8dcc119": {
      "model_module": "@jupyter-widgets/controls",
      "model_module_version": "2.0.0",
      "model_name": "ButtonModel",
      "state": {
       "icon": "close",
       "layout": "IPY_MODEL_4c7008a95c1348aeb82092995c9fba8c",
       "style": "IPY_MODEL_221004ec53674c588d5800efe5e73a05",
       "tooltip": null
      }
     },
     "7b2eaa6d9d8a4510ab924302287f03b3": {
      "model_module": "@jupyter-widgets/base",
      "model_module_version": "2.0.0",
      "model_name": "LayoutModel",
      "state": {
       "width": "145px"
      }
     },
     "86138fcb62f649b58d9da9876df652cb": {
      "model_module": "@jupyter-widgets/controls",
      "model_module_version": "2.0.0",
      "model_name": "HTMLModel",
      "state": {
       "layout": "IPY_MODEL_23b59b06c8d040cb8915cc0eb21161d0",
       "style": "IPY_MODEL_2dc512597f324c10bea615ae0ad68d91",
       "value": "<h5>Job ID</h5>"
      }
     },
     "91ec262871e542e09ab4367f8796b7a9": {
      "model_module": "@jupyter-widgets/controls",
      "model_module_version": "2.0.0",
      "model_name": "HTMLStyleModel",
      "state": {
       "description_width": "",
       "font_size": null,
       "text_color": null
      }
     },
     "99615810a1374d168adf5c26f5749973": {
      "model_module": "@jupyter-widgets/controls",
      "model_module_version": "2.0.0",
      "model_name": "ButtonStyleModel",
      "state": {
       "font_family": null,
       "font_size": null,
       "font_style": null,
       "font_variant": null,
       "font_weight": null,
       "text_color": null,
       "text_decoration": null
      }
     },
     "9e38c38a253245dc90b6ce5d10e16ea9": {
      "model_module": "@jupyter-widgets/controls",
      "model_module_version": "2.0.0",
      "model_name": "HTMLStyleModel",
      "state": {
       "description_width": "",
       "font_size": null,
       "text_color": null
      }
     },
     "a2576a776224467fa4ab4c910f01c6d1": {
      "model_module": "@jupyter-widgets/controls",
      "model_module_version": "2.0.0",
      "model_name": "HTMLStyleModel",
      "state": {
       "description_width": "",
       "font_size": null,
       "text_color": null
      }
     },
     "afd12ccc3ec143dd86cff67a1847a85e": {
      "model_module": "@jupyter-widgets/base",
      "model_module_version": "2.0.0",
      "model_name": "LayoutModel",
      "state": {}
     },
     "b7292f8e36734555bdd6059067c54b72": {
      "model_module": "@jupyter-widgets/base",
      "model_module_version": "2.0.0",
      "model_name": "LayoutModel",
      "state": {
       "width": "70px"
      }
     },
     "c1e79f5d7e414c67afde57025316d958": {
      "model_module": "@jupyter-widgets/base",
      "model_module_version": "2.0.0",
      "model_name": "LayoutModel",
      "state": {
       "width": "95px"
      }
     },
     "c5615d747aed486ba574e853b8d5edcd": {
      "model_module": "@jupyter-widgets/controls",
      "model_module_version": "2.0.0",
      "model_name": "ButtonModel",
      "state": {
       "button_style": "primary",
       "description": "Clear",
       "layout": "IPY_MODEL_24ba7fe4a81d4a79aaa0556224b38373",
       "style": "IPY_MODEL_99615810a1374d168adf5c26f5749973",
       "tooltip": null
      }
     },
     "cd4b4a04028448efadd6fbe88c2bf685": {
      "model_module": "@jupyter-widgets/controls",
      "model_module_version": "2.0.0",
      "model_name": "GridBoxModel",
      "state": {
       "children": [
        "IPY_MODEL_c5615d747aed486ba574e853b8d5edcd"
       ],
       "layout": "IPY_MODEL_5c530cad1d824c8e989c2dc45f87a657"
      }
     },
     "d1af843317dc452a945772367b999e0f": {
      "model_module": "@jupyter-widgets/controls",
      "model_module_version": "2.0.0",
      "model_name": "HTMLStyleModel",
      "state": {
       "description_width": "",
       "font_size": null,
       "text_color": null
      }
     },
     "d99a42a4089b4d7bb0a7b334ce26a101": {
      "model_module": "@jupyter-widgets/controls",
      "model_module_version": "2.0.0",
      "model_name": "HTMLStyleModel",
      "state": {
       "description_width": "",
       "font_size": null,
       "text_color": null
      }
     },
     "da8d8aba96494f69a68a6180392f924c": {
      "model_module": "@jupyter-widgets/base",
      "model_module_version": "2.0.0",
      "model_name": "LayoutModel",
      "state": {
       "margin": "0px 0px 0px 37px",
       "width": "600px"
      }
     },
     "dae63fbf45d340938427cb5856287a9e": {
      "model_module": "@jupyter-widgets/controls",
      "model_module_version": "2.0.0",
      "model_name": "HTMLStyleModel",
      "state": {
       "description_width": "",
       "font_size": null,
       "text_color": null
      }
     },
     "df7b5a74c02340d496fefb15b2055de2": {
      "model_module": "@jupyter-widgets/base",
      "model_module_version": "2.0.0",
      "model_name": "LayoutModel",
      "state": {
       "max_width": "700px",
       "min_width": "700px"
      }
     },
     "ea6ca10157944d90b57336fb3c48ce79": {
      "model_module": "@jupyter-widgets/controls",
      "model_module_version": "2.0.0",
      "model_name": "HTMLModel",
      "state": {
       "layout": "IPY_MODEL_102d066a85ce4aaeb05b818c5083ce63",
       "style": "IPY_MODEL_61680ae75c8349e19deb01dfd883cd4d",
       "value": "-"
      }
     },
     "ea90ed46504945d687a42c1f91cba08a": {
      "model_module": "@jupyter-widgets/controls",
      "model_module_version": "2.0.0",
      "model_name": "HBoxModel",
      "state": {
       "children": [
        "IPY_MODEL_794a94f7fb67423db2c6e622b8dcc119",
        "IPY_MODEL_00ee2f61cd9a47b392b360a7f480fc83",
        "IPY_MODEL_4c3a39fc909542ed9a68f86ceb75f5e3",
        "IPY_MODEL_061cedbf24b14343b3d42b430bb16054",
        "IPY_MODEL_ea6ca10157944d90b57336fb3c48ce79",
        "IPY_MODEL_6eec4b25604e49cab03e02a20b869ce0"
       ],
       "layout": "IPY_MODEL_df7b5a74c02340d496fefb15b2055de2"
      }
     },
     "f2b48c9c95374a63bdcc67883e8da2df": {
      "model_module": "@jupyter-widgets/controls",
      "model_module_version": "2.0.0",
      "model_name": "HTMLStyleModel",
      "state": {
       "description_width": "",
       "font_size": null,
       "text_color": null
      }
     }
    },
    "version_major": 2,
    "version_minor": 0
   }
  }
 },
 "nbformat": 4,
 "nbformat_minor": 5
}
