{
 "cells": [
  {
   "cell_type": "code",
   "execution_count": 3,
   "id": "f0921920-3167-4357-a038-3d2452d2b9b8",
   "metadata": {
    "tags": []
   },
   "outputs": [],
   "source": [
    "# Importing standard Qiskit libraries\n",
    "from qiskit import QuantumCircuit, transpile\n",
    "from qiskit.tools.jupyter import *\n",
    "from qiskit.visualization import *\n",
    "from ibm_quantum_widgets import *\n",
    "\n",
    "# qiskit-ibmq-provider has been deprecated.\n",
    "# Please see the Migration Guides in https://ibm.biz/provider_migration_guide for more detail.\n",
    "from qiskit_ibm_runtime import QiskitRuntimeService, Sampler, Estimator, Session, Options\n",
    "\n",
    "# Loading your IBM Quantum account(s)\n",
    "service = QiskitRuntimeService(channel=\"ibm_quantum\")\n",
    "\n",
    "# Invoke a primitive. For more details see https://qiskit.org/documentation/partners/qiskit_ibm_runtime/tutorials.html\n",
    "# result = Sampler(\"ibmq_qasm_simulator\").run(circuits).result()"
   ]
  },
  {
   "cell_type": "code",
   "execution_count": 4,
   "id": "032fe8b3-e115-4322-8b30-72ba21b54ea7",
   "metadata": {
    "tags": []
   },
   "outputs": [
    {
     "data": {
      "text/plain": [
       "<QuadraticProgram: maximize 10*x_0 + 13*x_1 + 18*x_2 + 31*x_3 + 7*x_4, 5 variables, 1 constraints, 'Knapsack'>"
      ]
     },
     "execution_count": 4,
     "metadata": {},
     "output_type": "execute_result"
    }
   ],
   "source": [
    "from qiskit_optimization.applications import Knapsack\n",
    "from qiskit_optimization.algorithms import MinimumEigenOptimizer\n",
    "from qiskit import Aer\n",
    "from qiskit.utils import algorithm_globals, QuantumInstance\n",
    "from qiskit.algorithms.minimum_eigensolvers import NumPyMinimumEigensolver, QAOA\n",
    "import numpy as np\n",
    "\n",
    "def knapsack_quadratic_program():\n",
    "    # Put values, weights and max_weight parameter for the Knapsack()\n",
    "    values = [10, 13, 18, 31, 7]\n",
    "    weights = [2, 4, 6, 7, 3]\n",
    "    max_weight = 10\n",
    "    ##############################\n",
    "    # Provide your code here\n",
    "    \n",
    "    \n",
    "    prob = Knapsack(values, weights, max_weight)\n",
    "    \n",
    "    ##############################\n",
    "    # to_quadratic_program generates a corresponding QuadraticProgram of the instance of the knapsack problem.\n",
    "    kqp = prob.to_quadratic_program()\n",
    "    return prob, kqp\n",
    "\n",
    "prob,quadratic_program=knapsack_quadratic_program()\n",
    "quadratic_program"
   ]
  },
  {
   "cell_type": "markdown",
   "id": "cde1f85a-d8df-49b3-ad04-b3df175965a5",
   "metadata": {},
   "source": [
    "We can solve the problem using the classical NumPyMinimumEigensolver to find the minimum eigenvector, which may be useful as a reference without doing things by Dynamic Programming; we can also apply QAOA."
   ]
  },
  {
   "cell_type": "code",
   "execution_count": 5,
   "id": "a4487527-97ff-4598-afed-0a39af900d0e",
   "metadata": {
    "tags": []
   },
   "outputs": [
    {
     "name": "stdout",
     "output_type": "stream",
     "text": [
      "result:\n",
      " fval=41.0, x_0=1.0, x_1=0.0, x_2=0.0, x_3=1.0, x_4=0.0, status=SUCCESS\n",
      "\n",
      " index of the chosen items: [0, 3]\n"
     ]
    }
   ],
   "source": [
    "# Numpy Eigensolver\n",
    "meo = MinimumEigenOptimizer(min_eigen_solver=NumPyMinimumEigensolver())\n",
    "result = meo.solve(quadratic_program)\n",
    "print('result:\\n', result)\n",
    "print('\\n index of the chosen items:', prob.interpret(result)) "
   ]
  },
  {
   "cell_type": "code",
   "execution_count": 14,
   "id": "48c46008-af47-4f69-8308-cec351435d50",
   "metadata": {
    "tags": []
   },
   "outputs": [
    {
     "name": "stdout",
     "output_type": "stream",
     "text": [
      "result:\n",
      " fval=41.0, x_0=1.0, x_1=0.0, x_2=0.0, x_3=1.0, x_4=0.0, status=SUCCESS\n",
      "\n",
      " index of the chosen items: [0, 3]\n"
     ]
    }
   ],
   "source": [
    "# QAOA\n",
    "from qiskit.primitives import Sampler\n",
    "from qiskit_aer.primitives import Sampler as AerSampler\n",
    "from qiskit.algorithms.optimizers import COBYLA\n",
    "\n",
    "seed = 123\n",
    "algorithm_globals.random_seed = seed\n",
    "sampler = Sampler()\n",
    "aer_sampler = AerSampler(run_options={\"shots\": 1000, \"seed\": seed})\n",
    "\n",
    "optimizer = COBYLA()\n",
    "\n",
    "qaoa = QAOA(aer_sampler, optimizer, reps=2)\n",
    "meo = MinimumEigenOptimizer(min_eigen_solver= qaoa)\n",
    "result = meo.solve(quadratic_program)\n",
    "print('result:\\n', result)\n",
    "print('\\n index of the chosen items:', prob.interpret(result)) \n",
    "\n"
   ]
  },
  {
   "cell_type": "markdown",
   "id": "b1e0f660-72eb-4242-b72a-442ae56074b5",
   "metadata": {},
   "source": [
    "O circuito do Quantum Approximate Optimization Algorithm (QAOA) é composto por uma série de camadas quânticas, onde cada camada consiste em uma aplicação iterativa de dois tipos de operadores: um operador de mistura e um operador de problema. O número de camadas é controlado por um parâmetro inteiro p.\n",
    "\n",
    "Operador de Mistura (Mixer Operator): Este operador é projetado para criar superposições de estados. Ele é geralmente implementado como uma sequência de portas Hadamard aplicadas a cada qubit individualmente ou portas de X (bit-flip) entre pares de qubits, e é usado para explorar diferentes combinações de estados.\n",
    "\n",
    "Operador de Problema (Cost Operator): Este operador codifica o problema de otimização que você deseja resolver em um formato quântico. Ele geralmente envolve mapear o problema em um Hamiltoniano quântico, que é uma soma ponderada de Pauli-Z operators em cada qubit, e as ponderações são os coeficientes do problema de otimização.\n",
    "\n",
    "O circuito geral do QAOA é uma alternância de camadas quânticas de operadores de mistura e operadores de problema. Isso é feito p vezes (onde p é o parâmetro que controla o número de camadas). Além disso, antes e depois de todas as camadas, você pode aplicar portas de Hadamard para criar uma superposição inicial de estados e medir os qubits no final para obter a solução aproximada do problema de otimização.\n",
    "\n",
    "A complexidade e o desempenho do QAOA dependem fortemente do número de camadas (p) e da escolha dos operadores de mistura e problema apropriados para o problema específico que você está resolvendo.\n",
    "\n",
    "O circuito do QAOA é uma representação quântica de um problema de otimização, onde a busca pela solução ótima é realizada por meio de manipulações quânticas. O objetivo final é encontrar a configuração de qubits que minimize a função de custo associada ao problema de otimização. No entanto, a definição exata do circuito pode variar dependendo do problema que está sendo resolvido.\n",
    "\n",
    "\n",
    "\n",
    "\n",
    "\n"
   ]
  },
  {
   "cell_type": "code",
   "execution_count": 22,
   "id": "7a9dc66c-abc3-4384-95e9-b8c70fbf5b52",
   "metadata": {
    "tags": []
   },
   "outputs": [
    {
     "name": "stdout",
     "output_type": "stream",
     "text": [
      "Traceback \u001b[1;36m(most recent call last)\u001b[0m:\n",
      "\u001b[0m  Cell \u001b[0;32mIn[22], line 23\u001b[0m\n",
      "    qubo = knapsack_quadratic_program(values, weights, max_weight)\u001b[0m\n",
      "\u001b[1;36m  Cell \u001b[1;32mIn[22], line 7\u001b[1;36m in \u001b[1;35mknapsack_quadratic_program\u001b[1;36m\n",
      "\u001b[1;33m    x = qp.binary_var_list(name=\"x\", length=num_items)\u001b[1;36m\n",
      "\u001b[1;31mTypeError\u001b[0m\u001b[1;31m:\u001b[0m QuadraticProgram.binary_var_list() got an unexpected keyword argument 'length'\n",
      "\n",
      "Use %tb to get the full traceback.\n"
     ]
    },
    {
     "data": {
      "text/html": [
       "\n",
       "<style>\n",
       ".button {\n",
       "  border: none;\n",
       "  color: white;\n",
       "  padding: 4px 8px;\n",
       "  text-align: center;\n",
       "  text-decoration: none;\n",
       "  display: inline-block;\n",
       "  font-size: 12px;\n",
       "  margin: 4px 2px;\n",
       "  transition-duration: 0.2s;\n",
       "  cursor: pointer;\n",
       "}\n",
       ".iqx-button {\n",
       "  background-color: #0f62fe; \n",
       "  color: white; \n",
       "}\n",
       ".iqx-button:hover {\n",
       "  background-color: #0043ce;\n",
       "  color: white;\n",
       "}\n",
       "</style>\n",
       "<a href=\"https://stackoverflow.com/search?q=TypeError: QuadraticProgram.binary_var_list() got an unexpected keyword argument 'length'\" target='_blank'><button class='button iqx-button'>Search for solution online</button></a>\n"
      ],
      "text/plain": [
       "<IPython.core.display.HTML object>"
      ]
     },
     "metadata": {},
     "output_type": "display_data"
    }
   ],
   "source": [
    "def knapsack_quadratic_program(values, weights, max_weight):\n",
    "    # Crie uma instância de QuadraticProgram\n",
    "    qp = QuadraticProgram()\n",
    "\n",
    "    # Defina as variáveis binárias para representar a escolha de cada item\n",
    "    num_items = len(values)\n",
    "    x = qp.binary_var_list(name=\"x\", length=num_items)\n",
    "\n",
    "    # Defina a função objetivo para maximizar o valor total dos itens escolhidos\n",
    "    qp.maximize(linear=[values[i] * x[i] for i in range(num_items)])\n",
    "\n",
    "    # Adicione a restrição de que o peso total não pode exceder a capacidade máxima\n",
    "    qp.linear_constraint(linear=[weights[i] * x[i] for i in range(num_items)], sense=\"LE\", rhs=max_weight, name=\"weight_constraint\")\n",
    "\n",
    "    return qp\n",
    "\n",
    "# Dados do problema da mochila\n",
    "values = [10, 13, 18, 31, 7]\n",
    "weights = [2, 4, 6, 7, 3]\n",
    "max_weight = 10\n",
    "\n",
    "# Criar o problema de otimização quadrática (QUBO) correspondente\n",
    "qubo = knapsack_quadratic_program(values, weights, max_weight)"
   ]
  },
  {
   "cell_type": "code",
   "execution_count": null,
   "id": "aede6c1c-c156-40ed-a436-7a1f8ab3e955",
   "metadata": {},
   "outputs": [],
   "source": []
  }
 ],
 "metadata": {
  "kernelspec": {
   "display_name": "Python 3 (ipykernel)",
   "language": "python",
   "name": "python3"
  },
  "language_info": {
   "codemirror_mode": {
    "name": "ipython",
    "version": 3
   },
   "file_extension": ".py",
   "mimetype": "text/x-python",
   "name": "python",
   "nbconvert_exporter": "python",
   "pygments_lexer": "ipython3",
   "version": "3.10.8"
  },
  "widgets": {
   "application/vnd.jupyter.widget-state+json": {
    "state": {
     "00814d9775934479ae32ad52794c6889": {
      "model_module": "@jupyter-widgets/controls",
      "model_module_version": "2.0.0",
      "model_name": "HTMLStyleModel",
      "state": {
       "description_width": "",
       "font_size": null,
       "text_color": null
      }
     },
     "0238d70a54c145c0a5e24b8917f1dec5": {
      "model_module": "@jupyter-widgets/base",
      "model_module_version": "2.0.0",
      "model_name": "LayoutModel",
      "state": {
       "width": "190px"
      }
     },
     "1b77741e35fa433392c23bb867f053de": {
      "model_module": "@jupyter-widgets/base",
      "model_module_version": "2.0.0",
      "model_name": "LayoutModel",
      "state": {
       "margin": "0px 0px 0px 37px",
       "width": "600px"
      }
     },
     "1d0b6b9385404044bfb69fde13f86f31": {
      "model_module": "@jupyter-widgets/controls",
      "model_module_version": "2.0.0",
      "model_name": "HTMLModel",
      "state": {
       "layout": "IPY_MODEL_fe21678f574c4dcbb4946fa0c3c47b8d",
       "style": "IPY_MODEL_8555bff7a8db4fc48307d3829aad3834",
       "value": "<h5>Message</h5>"
      }
     },
     "21de5b2e27dd439eae9e782135487703": {
      "model_module": "@jupyter-widgets/controls",
      "model_module_version": "2.0.0",
      "model_name": "HTMLModel",
      "state": {
       "layout": "IPY_MODEL_0238d70a54c145c0a5e24b8917f1dec5",
       "style": "IPY_MODEL_51b149267c0741f18dd1b4994c239326",
       "value": "<h5>Job ID</h5>"
      }
     },
     "388508876d8d4e7c86c22b453fd3a15e": {
      "model_module": "@jupyter-widgets/controls",
      "model_module_version": "2.0.0",
      "model_name": "HTMLStyleModel",
      "state": {
       "description_width": "",
       "font_size": null,
       "text_color": null
      }
     },
     "3944291b6eda460fafbe91758f9c4c1e": {
      "model_module": "@jupyter-widgets/controls",
      "model_module_version": "2.0.0",
      "model_name": "HTMLStyleModel",
      "state": {
       "description_width": "",
       "font_size": null,
       "text_color": null
      }
     },
     "3d23e58adfe54a85973e6ad249b8ded9": {
      "model_module": "@jupyter-widgets/base",
      "model_module_version": "2.0.0",
      "model_name": "LayoutModel",
      "state": {
       "width": "70px"
      }
     },
     "40bab3d031d2407c89fdfcb7c4c4efad": {
      "model_module": "@jupyter-widgets/base",
      "model_module_version": "2.0.0",
      "model_name": "LayoutModel",
      "state": {
       "width": "145px"
      }
     },
     "51b149267c0741f18dd1b4994c239326": {
      "model_module": "@jupyter-widgets/controls",
      "model_module_version": "2.0.0",
      "model_name": "HTMLStyleModel",
      "state": {
       "description_width": "",
       "font_size": null,
       "text_color": null
      }
     },
     "73fbc2283f844d98bda7610be0a01a19": {
      "model_module": "@jupyter-widgets/controls",
      "model_module_version": "2.0.0",
      "model_name": "HTMLModel",
      "state": {
       "layout": "IPY_MODEL_40bab3d031d2407c89fdfcb7c4c4efad",
       "style": "IPY_MODEL_388508876d8d4e7c86c22b453fd3a15e",
       "value": "<h5>Backend</h5>"
      }
     },
     "8555bff7a8db4fc48307d3829aad3834": {
      "model_module": "@jupyter-widgets/controls",
      "model_module_version": "2.0.0",
      "model_name": "HTMLStyleModel",
      "state": {
       "description_width": "",
       "font_size": null,
       "text_color": null
      }
     },
     "a2e4747af9b04d3a8d65821f02ba5482": {
      "model_module": "@jupyter-widgets/base",
      "model_module_version": "2.0.0",
      "model_name": "LayoutModel",
      "state": {
       "grid_area": "right",
       "padding": "0px 0px 0px 0px",
       "width": "70px"
      }
     },
     "acdb0f6b72874286ad0179522813c9a9": {
      "model_module": "@jupyter-widgets/controls",
      "model_module_version": "2.0.0",
      "model_name": "ButtonModel",
      "state": {
       "button_style": "primary",
       "description": "Clear",
       "layout": "IPY_MODEL_a2e4747af9b04d3a8d65821f02ba5482",
       "style": "IPY_MODEL_cdca2c3cbd8b47d58110261e40be441f",
       "tooltip": null
      }
     },
     "bbddb79e7dbc46cf85847d2bba614f28": {
      "model_module": "@jupyter-widgets/base",
      "model_module_version": "2.0.0",
      "model_name": "LayoutModel",
      "state": {
       "margin": "0px 0px 10px 0px"
      }
     },
     "c234ffea77d144a99793b1628c7e6e3b": {
      "model_module": "@jupyter-widgets/base",
      "model_module_version": "2.0.0",
      "model_name": "LayoutModel",
      "state": {
       "grid_template_areas": "\n                                       \". . . . right \"\n                                        ",
       "grid_template_columns": "20% 20% 20% 20% 20%",
       "width": "100%"
      }
     },
     "c4ece5972ae74989abc4b23ffbe302d8": {
      "model_module": "@jupyter-widgets/controls",
      "model_module_version": "2.0.0",
      "model_name": "HBoxModel",
      "state": {
       "children": [
        "IPY_MODEL_21de5b2e27dd439eae9e782135487703",
        "IPY_MODEL_73fbc2283f844d98bda7610be0a01a19",
        "IPY_MODEL_cb405c7649d043d28df7f4200a91629a",
        "IPY_MODEL_e00f30fcc02649269ef101f51a0fec1e",
        "IPY_MODEL_1d0b6b9385404044bfb69fde13f86f31"
       ],
       "layout": "IPY_MODEL_1b77741e35fa433392c23bb867f053de"
      }
     },
     "ca5b006f42314f1aa1be7fde7f7182a1": {
      "model_module": "@jupyter-widgets/controls",
      "model_module_version": "2.0.0",
      "model_name": "HTMLStyleModel",
      "state": {
       "description_width": "",
       "font_size": null,
       "text_color": null
      }
     },
     "cb405c7649d043d28df7f4200a91629a": {
      "model_module": "@jupyter-widgets/controls",
      "model_module_version": "2.0.0",
      "model_name": "HTMLModel",
      "state": {
       "layout": "IPY_MODEL_dd8654abb9bc4d90914fc0c96e577d49",
       "style": "IPY_MODEL_3944291b6eda460fafbe91758f9c4c1e",
       "value": "<h5>Status</h5>"
      }
     },
     "cdca2c3cbd8b47d58110261e40be441f": {
      "model_module": "@jupyter-widgets/controls",
      "model_module_version": "2.0.0",
      "model_name": "ButtonStyleModel",
      "state": {
       "font_family": null,
       "font_size": null,
       "font_style": null,
       "font_variant": null,
       "font_weight": null,
       "text_color": null,
       "text_decoration": null
      }
     },
     "dd8654abb9bc4d90914fc0c96e577d49": {
      "model_module": "@jupyter-widgets/base",
      "model_module_version": "2.0.0",
      "model_name": "LayoutModel",
      "state": {
       "width": "95px"
      }
     },
     "df8b04652cea4d9c940b6f661f48b4fc": {
      "model_module": "@jupyter-widgets/controls",
      "model_module_version": "2.0.0",
      "model_name": "GridBoxModel",
      "state": {
       "children": [
        "IPY_MODEL_acdb0f6b72874286ad0179522813c9a9"
       ],
       "layout": "IPY_MODEL_c234ffea77d144a99793b1628c7e6e3b"
      }
     },
     "e00f30fcc02649269ef101f51a0fec1e": {
      "model_module": "@jupyter-widgets/controls",
      "model_module_version": "2.0.0",
      "model_name": "HTMLModel",
      "state": {
       "layout": "IPY_MODEL_3d23e58adfe54a85973e6ad249b8ded9",
       "style": "IPY_MODEL_00814d9775934479ae32ad52794c6889",
       "value": "<h5>Queue</h5>"
      }
     },
     "fc605db754c343c59b2a34f018a967bd": {
      "model_module": "@jupyter-widgets/controls",
      "model_module_version": "2.0.0",
      "model_name": "HTMLModel",
      "state": {
       "layout": "IPY_MODEL_bbddb79e7dbc46cf85847d2bba614f28",
       "style": "IPY_MODEL_ca5b006f42314f1aa1be7fde7f7182a1",
       "value": "<p style='font-family: IBM Plex Sans, Arial, Helvetica, sans-serif; font-size: 20px; font-weight: medium;'>Circuit Properties</p>"
      }
     },
     "fe21678f574c4dcbb4946fa0c3c47b8d": {
      "model_module": "@jupyter-widgets/base",
      "model_module_version": "2.0.0",
      "model_name": "LayoutModel",
      "state": {}
     }
    },
    "version_major": 2,
    "version_minor": 0
   }
  }
 },
 "nbformat": 4,
 "nbformat_minor": 5
}
